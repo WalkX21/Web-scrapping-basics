{
    "cells": [
        {
            "cell_type": "markdown",
            "metadata": {
                "colab_type": "text",
                "id": "view-in-github"
            },
            "source": [
                "<a href=\"https://colab.research.google.com/github/kplr-training/Web-Scraping/blob/main/Exercice/4_Scrape_Car_Attributs_Using_Requests.ipynb\" target=\"_blank\"><img src=\"https://colab.research.google.com/assets/colab-badge.svg\" alt=\"Open In Colab\"/></a>"
            ]
        },
        {
            "attachments": {},
            "cell_type": "markdown",
            "metadata": {
                "id": "h8gMqje7fLaz"
            },
            "source": [
                "# **Récupérer les attributs d'une voiture à l'aide de Requests**\n",
                "\n",
                "\n",
                "\n"
            ]
        },
        {
            "attachments": {},
            "cell_type": "markdown",
            "metadata": {
                "id": "v3EeEJMQfV5p"
            },
            "source": [
                "- Nous allons extraire des données des sites web d'un concessionnaire automobile : nous allons extraire - la marque - le modèle - le type de carburant - les kilomètres - l'année du modèle - le prix."
            ]
        },
        {
            "attachments": {},
            "cell_type": "markdown",
            "metadata": {
                "id": "U4k8Nmlay-1S"
            },
            "source": [
                "![image](https://user-images.githubusercontent.com/123748165/224308731-cb43fb4b-69f9-4d5d-b52f-1d2b157aaae5.png)"
            ]
        },
        {
            "cell_type": "markdown",
            "metadata": {
                "id": "0Xns7B-tlmH6"
            },
            "source": [
                "#### 1 - Imports"
            ]
        },
        {
            "cell_type": "code",
            "execution_count": 5,
            "metadata": {},
            "outputs": [
                {
                    "name": "stdout",
                    "output_type": "stream",
                    "text": [
                        "Requirement already satisfied: pip in /Users/mbm/Desktop/Web-Scrapping/venv/lib/python3.12/site-packages (23.2.1)\n",
                        "Collecting pip\n",
                        "  Obtaining dependency information for pip from https://files.pythonhosted.org/packages/d4/55/90db48d85f7689ec6f81c0db0622d704306c5284850383c090e6c7195a5c/pip-24.2-py3-none-any.whl.metadata\n",
                        "  Downloading pip-24.2-py3-none-any.whl.metadata (3.6 kB)\n",
                        "Downloading pip-24.2-py3-none-any.whl (1.8 MB)\n",
                        "\u001b[2K   \u001b[90m━━━━━━━━━━━━━━━━━━━━━━━━━━━━━━━━━━━━━━━━\u001b[0m \u001b[32m1.8/1.8 MB\u001b[0m \u001b[31m2.1 MB/s\u001b[0m eta \u001b[36m0:00:00\u001b[0m00:01\u001b[0m00:01\u001b[0m\n",
                        "\u001b[?25hInstalling collected packages: pip\n",
                        "  Attempting uninstall: pip\n",
                        "    Found existing installation: pip 23.2.1\n",
                        "    Uninstalling pip-23.2.1:\n",
                        "      Successfully uninstalled pip-23.2.1\n",
                        "Successfully installed pip-24.2\n",
                        "Requirement already satisfied: pandas in /Users/mbm/Desktop/Web-Scrapping/venv/lib/python3.12/site-packages (2.2.3)\n",
                        "Requirement already satisfied: numpy>=1.26.0 in /Users/mbm/Desktop/Web-Scrapping/venv/lib/python3.12/site-packages (from pandas) (2.1.1)\n",
                        "Requirement already satisfied: python-dateutil>=2.8.2 in /Users/mbm/Desktop/Web-Scrapping/venv/lib/python3.12/site-packages (from pandas) (2.9.0.post0)\n",
                        "Requirement already satisfied: pytz>=2020.1 in /Users/mbm/Desktop/Web-Scrapping/venv/lib/python3.12/site-packages (from pandas) (2024.2)\n",
                        "Requirement already satisfied: tzdata>=2022.7 in /Users/mbm/Desktop/Web-Scrapping/venv/lib/python3.12/site-packages (from pandas) (2024.2)\n",
                        "Requirement already satisfied: six>=1.5 in /Users/mbm/Desktop/Web-Scrapping/venv/lib/python3.12/site-packages (from python-dateutil>=2.8.2->pandas) (1.16.0)\n"
                    ]
                }
            ],
            "source": [
                "%%bash\n",
                "\n",
                "pip install --upgrade pip\n",
                "pip install pandas"
            ]
        },
        {
            "cell_type": "code",
            "execution_count": 7,
            "metadata": {
                "id": "JVYiPLf4dDZS"
            },
            "outputs": [
                {
                    "ename": "AttributeError",
                    "evalue": "partially initialized module 'pandas' has no attribute '_pandas_datetime_CAPI' (most likely due to a circular import)",
                    "output_type": "error",
                    "traceback": [
                        "\u001b[0;31m---------------------------------------------------------------------------\u001b[0m",
                        "\u001b[0;31mAttributeError\u001b[0m                            Traceback (most recent call last)",
                        "Cell \u001b[0;32mIn[7], line 2\u001b[0m\n\u001b[1;32m      1\u001b[0m \u001b[38;5;28;01mimport\u001b[39;00m \u001b[38;5;21;01mrequests\u001b[39;00m \n\u001b[0;32m----> 2\u001b[0m \u001b[38;5;28;01mimport\u001b[39;00m \u001b[38;5;21;01mpandas\u001b[39;00m \u001b[38;5;28;01mas\u001b[39;00m \u001b[38;5;21;01mpd\u001b[39;00m \n\u001b[1;32m      3\u001b[0m \u001b[38;5;28;01mimport\u001b[39;00m \u001b[38;5;21;01msqlalchemy\u001b[39;00m\n",
                        "File \u001b[0;32m~/Desktop/Web-Scrapping/venv/lib/python3.12/site-packages/pandas/__init__.py:49\u001b[0m\n\u001b[1;32m     46\u001b[0m \u001b[38;5;66;03m# let init-time option registration happen\u001b[39;00m\n\u001b[1;32m     47\u001b[0m \u001b[38;5;28;01mimport\u001b[39;00m \u001b[38;5;21;01mpandas\u001b[39;00m\u001b[38;5;21;01m.\u001b[39;00m\u001b[38;5;21;01mcore\u001b[39;00m\u001b[38;5;21;01m.\u001b[39;00m\u001b[38;5;21;01mconfig_init\u001b[39;00m  \u001b[38;5;66;03m# pyright: ignore[reportUnusedImport] # noqa: F401\u001b[39;00m\n\u001b[0;32m---> 49\u001b[0m \u001b[38;5;28;01mfrom\u001b[39;00m \u001b[38;5;21;01mpandas\u001b[39;00m\u001b[38;5;21;01m.\u001b[39;00m\u001b[38;5;21;01mcore\u001b[39;00m\u001b[38;5;21;01m.\u001b[39;00m\u001b[38;5;21;01mapi\u001b[39;00m \u001b[38;5;28;01mimport\u001b[39;00m (\n\u001b[1;32m     50\u001b[0m     \u001b[38;5;66;03m# dtype\u001b[39;00m\n\u001b[1;32m     51\u001b[0m     ArrowDtype,\n\u001b[1;32m     52\u001b[0m     Int8Dtype,\n\u001b[1;32m     53\u001b[0m     Int16Dtype,\n\u001b[1;32m     54\u001b[0m     Int32Dtype,\n\u001b[1;32m     55\u001b[0m     Int64Dtype,\n\u001b[1;32m     56\u001b[0m     UInt8Dtype,\n\u001b[1;32m     57\u001b[0m     UInt16Dtype,\n\u001b[1;32m     58\u001b[0m     UInt32Dtype,\n\u001b[1;32m     59\u001b[0m     UInt64Dtype,\n\u001b[1;32m     60\u001b[0m     Float32Dtype,\n\u001b[1;32m     61\u001b[0m     Float64Dtype,\n\u001b[1;32m     62\u001b[0m     CategoricalDtype,\n\u001b[1;32m     63\u001b[0m     PeriodDtype,\n\u001b[1;32m     64\u001b[0m     IntervalDtype,\n\u001b[1;32m     65\u001b[0m     DatetimeTZDtype,\n\u001b[1;32m     66\u001b[0m     StringDtype,\n\u001b[1;32m     67\u001b[0m     BooleanDtype,\n\u001b[1;32m     68\u001b[0m     \u001b[38;5;66;03m# missing\u001b[39;00m\n\u001b[1;32m     69\u001b[0m     NA,\n\u001b[1;32m     70\u001b[0m     isna,\n\u001b[1;32m     71\u001b[0m     isnull,\n\u001b[1;32m     72\u001b[0m     notna,\n\u001b[1;32m     73\u001b[0m     notnull,\n\u001b[1;32m     74\u001b[0m     \u001b[38;5;66;03m# indexes\u001b[39;00m\n\u001b[1;32m     75\u001b[0m     Index,\n\u001b[1;32m     76\u001b[0m     CategoricalIndex,\n\u001b[1;32m     77\u001b[0m     RangeIndex,\n\u001b[1;32m     78\u001b[0m     MultiIndex,\n\u001b[1;32m     79\u001b[0m     IntervalIndex,\n\u001b[1;32m     80\u001b[0m     TimedeltaIndex,\n\u001b[1;32m     81\u001b[0m     DatetimeIndex,\n\u001b[1;32m     82\u001b[0m     PeriodIndex,\n\u001b[1;32m     83\u001b[0m     IndexSlice,\n\u001b[1;32m     84\u001b[0m     \u001b[38;5;66;03m# tseries\u001b[39;00m\n\u001b[1;32m     85\u001b[0m     NaT,\n\u001b[1;32m     86\u001b[0m     Period,\n\u001b[1;32m     87\u001b[0m     period_range,\n\u001b[1;32m     88\u001b[0m     Timedelta,\n\u001b[1;32m     89\u001b[0m     timedelta_range,\n\u001b[1;32m     90\u001b[0m     Timestamp,\n\u001b[1;32m     91\u001b[0m     date_range,\n\u001b[1;32m     92\u001b[0m     bdate_range,\n\u001b[1;32m     93\u001b[0m     Interval,\n\u001b[1;32m     94\u001b[0m     interval_range,\n\u001b[1;32m     95\u001b[0m     DateOffset,\n\u001b[1;32m     96\u001b[0m     \u001b[38;5;66;03m# conversion\u001b[39;00m\n\u001b[1;32m     97\u001b[0m     to_numeric,\n\u001b[1;32m     98\u001b[0m     to_datetime,\n\u001b[1;32m     99\u001b[0m     to_timedelta,\n\u001b[1;32m    100\u001b[0m     \u001b[38;5;66;03m# misc\u001b[39;00m\n\u001b[1;32m    101\u001b[0m     Flags,\n\u001b[1;32m    102\u001b[0m     Grouper,\n\u001b[1;32m    103\u001b[0m     factorize,\n\u001b[1;32m    104\u001b[0m     unique,\n\u001b[1;32m    105\u001b[0m     value_counts,\n\u001b[1;32m    106\u001b[0m     NamedAgg,\n\u001b[1;32m    107\u001b[0m     array,\n\u001b[1;32m    108\u001b[0m     Categorical,\n\u001b[1;32m    109\u001b[0m     set_eng_float_format,\n\u001b[1;32m    110\u001b[0m     Series,\n\u001b[1;32m    111\u001b[0m     DataFrame,\n\u001b[1;32m    112\u001b[0m )\n\u001b[1;32m    114\u001b[0m \u001b[38;5;28;01mfrom\u001b[39;00m \u001b[38;5;21;01mpandas\u001b[39;00m\u001b[38;5;21;01m.\u001b[39;00m\u001b[38;5;21;01mcore\u001b[39;00m\u001b[38;5;21;01m.\u001b[39;00m\u001b[38;5;21;01mdtypes\u001b[39;00m\u001b[38;5;21;01m.\u001b[39;00m\u001b[38;5;21;01mdtypes\u001b[39;00m \u001b[38;5;28;01mimport\u001b[39;00m SparseDtype\n\u001b[1;32m    116\u001b[0m \u001b[38;5;28;01mfrom\u001b[39;00m \u001b[38;5;21;01mpandas\u001b[39;00m\u001b[38;5;21;01m.\u001b[39;00m\u001b[38;5;21;01mtseries\u001b[39;00m\u001b[38;5;21;01m.\u001b[39;00m\u001b[38;5;21;01mapi\u001b[39;00m \u001b[38;5;28;01mimport\u001b[39;00m infer_freq\n",
                        "File \u001b[0;32m~/Desktop/Web-Scrapping/venv/lib/python3.12/site-packages/pandas/core/api.py:1\u001b[0m\n\u001b[0;32m----> 1\u001b[0m \u001b[38;5;28;01mfrom\u001b[39;00m \u001b[38;5;21;01mpandas\u001b[39;00m\u001b[38;5;21;01m.\u001b[39;00m\u001b[38;5;21;01m_libs\u001b[39;00m \u001b[38;5;28;01mimport\u001b[39;00m (\n\u001b[1;32m      2\u001b[0m     NaT,\n\u001b[1;32m      3\u001b[0m     Period,\n\u001b[1;32m      4\u001b[0m     Timedelta,\n\u001b[1;32m      5\u001b[0m     Timestamp,\n\u001b[1;32m      6\u001b[0m )\n\u001b[1;32m      7\u001b[0m \u001b[38;5;28;01mfrom\u001b[39;00m \u001b[38;5;21;01mpandas\u001b[39;00m\u001b[38;5;21;01m.\u001b[39;00m\u001b[38;5;21;01m_libs\u001b[39;00m\u001b[38;5;21;01m.\u001b[39;00m\u001b[38;5;21;01mmissing\u001b[39;00m \u001b[38;5;28;01mimport\u001b[39;00m NA\n\u001b[1;32m      9\u001b[0m \u001b[38;5;28;01mfrom\u001b[39;00m \u001b[38;5;21;01mpandas\u001b[39;00m\u001b[38;5;21;01m.\u001b[39;00m\u001b[38;5;21;01mcore\u001b[39;00m\u001b[38;5;21;01m.\u001b[39;00m\u001b[38;5;21;01mdtypes\u001b[39;00m\u001b[38;5;21;01m.\u001b[39;00m\u001b[38;5;21;01mdtypes\u001b[39;00m \u001b[38;5;28;01mimport\u001b[39;00m (\n\u001b[1;32m     10\u001b[0m     ArrowDtype,\n\u001b[1;32m     11\u001b[0m     CategoricalDtype,\n\u001b[0;32m   (...)\u001b[0m\n\u001b[1;32m     14\u001b[0m     PeriodDtype,\n\u001b[1;32m     15\u001b[0m )\n",
                        "File \u001b[0;32m~/Desktop/Web-Scrapping/venv/lib/python3.12/site-packages/pandas/_libs/__init__.py:18\u001b[0m\n\u001b[1;32m     16\u001b[0m \u001b[38;5;28;01mimport\u001b[39;00m \u001b[38;5;21;01mpandas\u001b[39;00m\u001b[38;5;21;01m.\u001b[39;00m\u001b[38;5;21;01m_libs\u001b[39;00m\u001b[38;5;21;01m.\u001b[39;00m\u001b[38;5;21;01mpandas_parser\u001b[39;00m  \u001b[38;5;66;03m# isort: skip # type: ignore[reportUnusedImport]\u001b[39;00m\n\u001b[1;32m     17\u001b[0m \u001b[38;5;28;01mimport\u001b[39;00m \u001b[38;5;21;01mpandas\u001b[39;00m\u001b[38;5;21;01m.\u001b[39;00m\u001b[38;5;21;01m_libs\u001b[39;00m\u001b[38;5;21;01m.\u001b[39;00m\u001b[38;5;21;01mpandas_datetime\u001b[39;00m  \u001b[38;5;66;03m# noqa: F401 # isort: skip # type: ignore[reportUnusedImport]\u001b[39;00m\n\u001b[0;32m---> 18\u001b[0m \u001b[38;5;28;01mfrom\u001b[39;00m \u001b[38;5;21;01mpandas\u001b[39;00m\u001b[38;5;21;01m.\u001b[39;00m\u001b[38;5;21;01m_libs\u001b[39;00m\u001b[38;5;21;01m.\u001b[39;00m\u001b[38;5;21;01minterval\u001b[39;00m \u001b[38;5;28;01mimport\u001b[39;00m Interval\n\u001b[1;32m     19\u001b[0m \u001b[38;5;28;01mfrom\u001b[39;00m \u001b[38;5;21;01mpandas\u001b[39;00m\u001b[38;5;21;01m.\u001b[39;00m\u001b[38;5;21;01m_libs\u001b[39;00m\u001b[38;5;21;01m.\u001b[39;00m\u001b[38;5;21;01mtslibs\u001b[39;00m \u001b[38;5;28;01mimport\u001b[39;00m (\n\u001b[1;32m     20\u001b[0m     NaT,\n\u001b[1;32m     21\u001b[0m     NaTType,\n\u001b[0;32m   (...)\u001b[0m\n\u001b[1;32m     26\u001b[0m     iNaT,\n\u001b[1;32m     27\u001b[0m )\n",
                        "File \u001b[0;32minterval.pyx:1\u001b[0m, in \u001b[0;36minit pandas._libs.interval\u001b[0;34m()\u001b[0m\n",
                        "File \u001b[0;32mhashtable.pyx:1\u001b[0m, in \u001b[0;36minit pandas._libs.hashtable\u001b[0;34m()\u001b[0m\n",
                        "File \u001b[0;32mmissing.pyx:1\u001b[0m, in \u001b[0;36minit pandas._libs.missing\u001b[0;34m()\u001b[0m\n",
                        "File \u001b[0;32m~/Desktop/Web-Scrapping/venv/lib/python3.12/site-packages/pandas/_libs/tslibs/__init__.py:39\u001b[0m\n\u001b[1;32m      1\u001b[0m __all__ \u001b[38;5;241m=\u001b[39m [\n\u001b[1;32m      2\u001b[0m     \u001b[38;5;124m\"\u001b[39m\u001b[38;5;124mdtypes\u001b[39m\u001b[38;5;124m\"\u001b[39m,\n\u001b[1;32m      3\u001b[0m     \u001b[38;5;124m\"\u001b[39m\u001b[38;5;124mlocalize_pydatetime\u001b[39m\u001b[38;5;124m\"\u001b[39m,\n\u001b[0;32m   (...)\u001b[0m\n\u001b[1;32m     36\u001b[0m     \u001b[38;5;124m\"\u001b[39m\u001b[38;5;124mis_supported_dtype\u001b[39m\u001b[38;5;124m\"\u001b[39m,\n\u001b[1;32m     37\u001b[0m ]\n\u001b[0;32m---> 39\u001b[0m \u001b[38;5;28;01mfrom\u001b[39;00m \u001b[38;5;21;01mpandas\u001b[39;00m\u001b[38;5;21;01m.\u001b[39;00m\u001b[38;5;21;01m_libs\u001b[39;00m\u001b[38;5;21;01m.\u001b[39;00m\u001b[38;5;21;01mtslibs\u001b[39;00m \u001b[38;5;28;01mimport\u001b[39;00m dtypes  \u001b[38;5;66;03m# pylint: disable=import-self\u001b[39;00m\n\u001b[1;32m     40\u001b[0m \u001b[38;5;28;01mfrom\u001b[39;00m \u001b[38;5;21;01mpandas\u001b[39;00m\u001b[38;5;21;01m.\u001b[39;00m\u001b[38;5;21;01m_libs\u001b[39;00m\u001b[38;5;21;01m.\u001b[39;00m\u001b[38;5;21;01mtslibs\u001b[39;00m\u001b[38;5;21;01m.\u001b[39;00m\u001b[38;5;21;01mconversion\u001b[39;00m \u001b[38;5;28;01mimport\u001b[39;00m localize_pydatetime\n\u001b[1;32m     41\u001b[0m \u001b[38;5;28;01mfrom\u001b[39;00m \u001b[38;5;21;01mpandas\u001b[39;00m\u001b[38;5;21;01m.\u001b[39;00m\u001b[38;5;21;01m_libs\u001b[39;00m\u001b[38;5;21;01m.\u001b[39;00m\u001b[38;5;21;01mtslibs\u001b[39;00m\u001b[38;5;21;01m.\u001b[39;00m\u001b[38;5;21;01mdtypes\u001b[39;00m \u001b[38;5;28;01mimport\u001b[39;00m (\n\u001b[1;32m     42\u001b[0m     Resolution,\n\u001b[1;32m     43\u001b[0m     periods_per_day,\n\u001b[1;32m     44\u001b[0m     periods_per_second,\n\u001b[1;32m     45\u001b[0m )\n",
                        "File \u001b[0;32mdtypes.pyx:155\u001b[0m, in \u001b[0;36minit pandas._libs.tslibs.dtypes\u001b[0;34m()\u001b[0m\n",
                        "\u001b[0;31mAttributeError\u001b[0m: partially initialized module 'pandas' has no attribute '_pandas_datetime_CAPI' (most likely due to a circular import)"
                    ]
                }
            ],
            "source": [
                "import requests \n",
                "import pandas as pd \n",
                "import sqlalchemy"
            ]
        },
        {
            "cell_type": "markdown",
            "metadata": {
                "id": "rUGEYZteln-U"
            },
            "source": [
                "#### 2 - CURL "
            ]
        },
        {
            "attachments": {},
            "cell_type": "markdown",
            "metadata": {
                "id": "yT9XtzZ7vVqQ"
            },
            "source": [
                "**Comment afficher les en-têtes HTTP ? [Y compris les cookies]**"
            ]
        },
        {
            "attachments": {},
            "cell_type": "markdown",
            "metadata": {
                "id": "zKommC8r0Euf"
            },
            "source": [
                "- Avant de pouvoir utiliser les en-têtes dans notre code, nous devons être en mesure de les récupérer quelque part. Pour ce faire, utilisons notre propre navigateur et allons sur le site web cible. \n",
                "- Pour notre exemple, allons sur https://www.cazoo.co.uk/cars/?page=2 > clic droit > inspecter pour ouvrir les outils de développement."
            ]
        },
        {
            "attachments": {},
            "cell_type": "markdown",
            "metadata": {
                "id": "1Lvfi6uC0Myi"
            },
            "source": [
                "- nous allons naviguer dans l'onglet Réseau et rechercher la requête \"?page 2\"."
            ]
        },
        {
            "attachments": {},
            "cell_type": "markdown",
            "metadata": {
                "id": "v3OzJPDmzFkX"
            },
            "source": [
                "![image](https://user-images.githubusercontent.com/123748165/224308744-61c1ed97-1680-47bf-a531-0f0daa24f5ce.png)"
            ]
        },
        {
            "attachments": {},
            "cell_type": "markdown",
            "metadata": {
                "id": "GWu8NQVe1gtx"
            },
            "source": [
                "- En cliquant sur le fichier, nous ouvrirons par défaut l'onglet En-têtes et en faisant défiler vers le bas, nous verrons la section En-têtes de la request."
            ]
        },
        {
            "attachments": {},
            "cell_type": "markdown",
            "metadata": {
                "id": "2VJj8xw3zPgm"
            },
            "source": [
                "![image](https://user-images.githubusercontent.com/123748165/224308758-b28b3301-4f75-42ac-a682-953790c4405c.png)\n"
            ]
        },
        {
            "cell_type": "markdown",
            "metadata": {
                "id": "qIR1sW7RvMt6"
            },
            "source": [
                "***Headers Arguments***"
            ]
        },
        {
            "attachments": {},
            "cell_type": "markdown",
            "metadata": {
                "id": "jNrmLp8MvX8r"
            },
            "source": [
                "- **User-Agent** : Il s'agit probablement de l'en-tête le plus important, car il identifie \"le type d'application, le système d'exploitation, le fournisseur du logiciel ou la version du logiciel de l'agent utilisateur demandeur\".\n",
                "le fournisseur du logiciel ou la version logicielle de l'agent utilisateur du logiciel demandeur\", ce qui en fait le premier contrôle effectué par la plupart des serveurs.\n",
                "\n",
                "- **Accept-Language** : Bien qu'elle ne soit pas toujours nécessaire, cette fonction indique au serveur la version linguistique des données à fournir. Lorsqu'il y a une grande différence entre chaque demande du point de vue de la langue, cela peut indiquer au serveur qu'un robot est impliqué.\n",
                "\n",
                "- **Referer** : L'en-tête HTTP Referer indique au serveur la page d'où provient l'utilisateur. Bien qu'il soit principalement utilisé pour le suivi, il peut également nous aider à imiter le comportement d'un utilisateur organique, par exemple en indiquant au serveur que nous venons d'un moteur de recherche comme Google.\n",
                "\n",
                "- **Cookie** : Les cookies permettent aux serveurs de communiquer à l'aide d'un petit morceau de données, mais que se passe-t-il lorsque le serveur envoie un cookie mais que le navigateur ne le stocke pas et ne le renvoie pas lors de la requête suivante ? Les cookies peuvent également être utilisés pour identifier si la demande provient d'un utilisateur réel ou d'un robot.\n",
                "- **sec-fetch-site** : cet en-tête indique au serveur si une demande de ressource provient de la même origine, du même site, d'un site différent ou s'il s'agit d'une demande \"initiée par l'utilisateur\". Le serveur peut alors utiliser cette information pour décider si la demande doit être autorisée.\n",
                "- **sec-fetch-mode** : permet à un serveur de faire la distinction entre : les demandes provenant d'un utilisateur naviguant entre des pages HTML, et les demandes de chargement d'images et d'autres ressources. Par exemple, cet en-tête contiendrait navigate pour les demandes de navigation de haut niveau, tandis que no-cors serait utilisé pour le chargement d'une image.\n",
                "\n",
                "- **sec-fetch-Dest** : permet aux serveurs de déterminer s'ils doivent répondre à une demande en fonction de son utilisation prévue."
            ]
        },
        {
            "cell_type": "code",
            "execution_count": 9,
            "metadata": {
                "id": "T15m18s7dI8u"
            },
            "outputs": [],
            "source": [
                "headers = {\n",
                "    'authority': 'www.cazoo.co.uk',\n",
                "    'sec-ch-ua': '^\\\\^',\n",
                "    'cazoo-language': 'en',\n",
                "    'sec-ch-ua-mobile': '?0',\n",
                "    'user-agent': 'Mozilla/5.0 (Windows NT 10.0; Win64; x64) AppleWebKit/537.36 (KHTML, like Gecko) Chrome/96.0.4664.45 Safari/537.36',\n",
                "    'cazoo-market': 'gb',\n",
                "    'sec-ch-ua-platform': '^\\\\^Windows^\\\\^',\n",
                "    'accept': '*/*',\n",
                "    'sec-fetch-site': 'same-origin',\n",
                "    'sec-fetch-mode': 'cors',\n",
                "    'sec-fetch-dest': 'empty',\n",
                "    'referer': 'https://www.cazoo.co.uk/cars/?page=2',\n",
                "    'accept-language': 'en-US,en;q=0.9,de-DE;q=0.8,de;q=0.7',\n",
                "    'cookie': 'base_device_id=d0a0a3f4-6853-469a-920f-6050e04a23d0; base_session_count=1; base_session_id=aa7da8a1-20b0-44f4-b994-7b19b379af45',\n",
                "}\n",
                "\n",
                "\n",
                "\n",
                "params = (\n",
                "    ('sort', 'price-asc'),\n",
                ")\n",
                "\n",
                "response = requests.get('https://www.cazoo.co.uk/api/search', headers=headers, params=params)\n"
            ]
        },
        {
            "cell_type": "code",
            "execution_count": 22,
            "metadata": {},
            "outputs": [],
            "source": [
                "header={ 'accept: */*',\n",
                "'accept-language: fr-FR,fr;q=0.9,en-US;q=0.8,en;q=0.7,de;q=0.6',\n",
                "'apikey: default_key',\n",
                "'dnt: 1',\n",
                "'initiator: https://cazoo.co.uk/cars/',\n",
                "'invoke: true',\n",
                "'origin: https://cazoo.co.uk',\n",
                "'priority: u=1, i',\n",
                "'referer: https://cazoo.co.uk/',\n",
                "'sec-ch-ua: \"Google Chrome\";v=\"129\", \"Not=A?Brand\";v=\"8\", \"Chromium\";v=\"129\"',\n",
                "'sec-ch-ua-mobile: ?0',\n",
                "'sec-ch-ua-platform: \"macOS\"',\n",
                "'sec-fetch-dest: empty',\n",
                "'sec-fetch-mode: cors',\n",
                "'sec-fetch-site: cross-site',\n",
                "'site: cazoo.co.uk',\n",
                "'user-agent: Mozilla/5.0 (Macintosh; Intel Mac OS X 10_15_7) AppleWebKit/537.36 (KHTML, like Gecko) Chrome/129.0.0.0 Safari/537.36' }\n"
            ]
        },
        {
            "cell_type": "markdown",
            "metadata": {
                "id": "Hhbrts5SlxIx"
            },
            "source": [
                "3 - Check Status Code"
            ]
        },
        {
            "attachments": {},
            "cell_type": "markdown",
            "metadata": {
                "id": "TuqWiUJsQD__"
            },
            "source": [
                "- Vérifier en ligne de commande l'état de la réponse"
            ]
        },
        {
            "cell_type": "code",
            "execution_count": 23,
            "metadata": {
                "colab": {
                    "base_uri": "https://localhost:8080/"
                },
                "id": "H7y7aW2WdLj9",
                "outputId": "9fc71eff-fe38-480e-b646-7b43c70d0095"
            },
            "outputs": [
                {
                    "data": {
                        "text/plain": [
                            "''"
                        ]
                    },
                    "execution_count": 23,
                    "metadata": {},
                    "output_type": "execute_result"
                }
            ],
            "source": [
                "#fill_here\n",
                "\n",
                "response = requests.get('https://feed.motors.co.uk/?widget-template=full&widget-offset=&postcode=&manufacturer=&model=&price_min=&price_max=&fuel=', headers=headers, params=params)\n",
                "\n",
                "\n",
                "response.text"
            ]
        },
        {
            "cell_type": "code",
            "execution_count": 26,
            "metadata": {},
            "outputs": [
                {
                    "ename": "ParserError",
                    "evalue": "Document is empty",
                    "output_type": "error",
                    "traceback": [
                        "\u001b[0;31m---------------------------------------------------------------------------\u001b[0m",
                        "\u001b[0;31mXMLSyntaxError\u001b[0m                            Traceback (most recent call last)",
                        "File \u001b[0;32m~/Desktop/Web-Scrapping/venv/lib/python3.12/site-packages/pyquery/pyquery.py:77\u001b[0m, in \u001b[0;36mfromstring\u001b[0;34m(context, parser, custom_parser)\u001b[0m\n\u001b[1;32m     76\u001b[0m \u001b[38;5;28;01mtry\u001b[39;00m:\n\u001b[0;32m---> 77\u001b[0m     result \u001b[38;5;241m=\u001b[39m \u001b[38;5;28;43mgetattr\u001b[39;49m\u001b[43m(\u001b[49m\u001b[43metree\u001b[49m\u001b[43m,\u001b[49m\u001b[43m \u001b[49m\u001b[43mmeth\u001b[49m\u001b[43m)\u001b[49m\u001b[43m(\u001b[49m\u001b[43mcontext\u001b[49m\u001b[43m)\u001b[49m\n\u001b[1;32m     78\u001b[0m \u001b[38;5;28;01mexcept\u001b[39;00m etree\u001b[38;5;241m.\u001b[39mXMLSyntaxError:\n",
                        "File \u001b[0;32msrc/lxml/etree.pyx:3306\u001b[0m, in \u001b[0;36mlxml.etree.fromstring\u001b[0;34m()\u001b[0m\n",
                        "File \u001b[0;32msrc/lxml/parser.pxi:1995\u001b[0m, in \u001b[0;36mlxml.etree._parseMemoryDocument\u001b[0;34m()\u001b[0m\n",
                        "File \u001b[0;32msrc/lxml/parser.pxi:1882\u001b[0m, in \u001b[0;36mlxml.etree._parseDoc\u001b[0;34m()\u001b[0m\n",
                        "File \u001b[0;32msrc/lxml/parser.pxi:1164\u001b[0m, in \u001b[0;36mlxml.etree._BaseParser._parseDoc\u001b[0;34m()\u001b[0m\n",
                        "File \u001b[0;32msrc/lxml/parser.pxi:633\u001b[0m, in \u001b[0;36mlxml.etree._ParserContext._handleParseResultDoc\u001b[0;34m()\u001b[0m\n",
                        "File \u001b[0;32msrc/lxml/parser.pxi:743\u001b[0m, in \u001b[0;36mlxml.etree._handleParseResult\u001b[0;34m()\u001b[0m\n",
                        "File \u001b[0;32msrc/lxml/parser.pxi:672\u001b[0m, in \u001b[0;36mlxml.etree._raiseParseError\u001b[0;34m()\u001b[0m\n",
                        "\u001b[0;31mXMLSyntaxError\u001b[0m: Document is empty, line 1, column 1 (<string>, line 1)",
                        "\nDuring handling of the above exception, another exception occurred:\n",
                        "\u001b[0;31mParserError\u001b[0m                               Traceback (most recent call last)",
                        "Cell \u001b[0;32mIn[26], line 15\u001b[0m\n\u001b[1;32m     12\u001b[0m response \u001b[38;5;241m=\u001b[39m session\u001b[38;5;241m.\u001b[39mget(\u001b[38;5;124m'\u001b[39m\u001b[38;5;124mhttps://feed.motors.co.uk/?widget-template=full&widget-offset=&postcode=&manufacturer=&model=&price_min=&price_max=&fuel=\u001b[39m\u001b[38;5;124m'\u001b[39m, headers\u001b[38;5;241m=\u001b[39mheaders)\n\u001b[1;32m     14\u001b[0m \u001b[38;5;66;03m# Render JavaScript (this may take a few seconds)\u001b[39;00m\n\u001b[0;32m---> 15\u001b[0m \u001b[43mresponse\u001b[49m\u001b[38;5;241;43m.\u001b[39;49m\u001b[43mhtml\u001b[49m\u001b[38;5;241m.\u001b[39mrender(timeout\u001b[38;5;241m=\u001b[39m\u001b[38;5;241m20\u001b[39m)\n\u001b[1;32m     17\u001b[0m \u001b[38;5;66;03m# Output the content (for inspection)\u001b[39;00m\n\u001b[1;32m     18\u001b[0m \u001b[38;5;28mprint\u001b[39m(response\u001b[38;5;241m.\u001b[39mhtml\u001b[38;5;241m.\u001b[39mhtml)\n",
                        "File \u001b[0;32m~/Desktop/Web-Scrapping/venv/lib/python3.12/site-packages/requests_html.py:654\u001b[0m, in \u001b[0;36mHTMLResponse.html\u001b[0;34m(self)\u001b[0m\n\u001b[1;32m    651\u001b[0m \u001b[38;5;129m@property\u001b[39m\n\u001b[1;32m    652\u001b[0m \u001b[38;5;28;01mdef\u001b[39;00m \u001b[38;5;21mhtml\u001b[39m(\u001b[38;5;28mself\u001b[39m) \u001b[38;5;241m-\u001b[39m\u001b[38;5;241m>\u001b[39m HTML:\n\u001b[1;32m    653\u001b[0m     \u001b[38;5;28;01mif\u001b[39;00m \u001b[38;5;129;01mnot\u001b[39;00m \u001b[38;5;28mself\u001b[39m\u001b[38;5;241m.\u001b[39m_html:\n\u001b[0;32m--> 654\u001b[0m         \u001b[38;5;28mself\u001b[39m\u001b[38;5;241m.\u001b[39m_html \u001b[38;5;241m=\u001b[39m \u001b[43mHTML\u001b[49m\u001b[43m(\u001b[49m\u001b[43msession\u001b[49m\u001b[38;5;241;43m=\u001b[39;49m\u001b[38;5;28;43mself\u001b[39;49m\u001b[38;5;241;43m.\u001b[39;49m\u001b[43msession\u001b[49m\u001b[43m,\u001b[49m\u001b[43m \u001b[49m\u001b[43murl\u001b[49m\u001b[38;5;241;43m=\u001b[39;49m\u001b[38;5;28;43mself\u001b[39;49m\u001b[38;5;241;43m.\u001b[39;49m\u001b[43murl\u001b[49m\u001b[43m,\u001b[49m\u001b[43m \u001b[49m\u001b[43mhtml\u001b[49m\u001b[38;5;241;43m=\u001b[39;49m\u001b[38;5;28;43mself\u001b[39;49m\u001b[38;5;241;43m.\u001b[39;49m\u001b[43mcontent\u001b[49m\u001b[43m,\u001b[49m\u001b[43m \u001b[49m\u001b[43mdefault_encoding\u001b[49m\u001b[38;5;241;43m=\u001b[39;49m\u001b[38;5;28;43mself\u001b[39;49m\u001b[38;5;241;43m.\u001b[39;49m\u001b[43mencoding\u001b[49m\u001b[43m)\u001b[49m\n\u001b[1;32m    656\u001b[0m     \u001b[38;5;28;01mreturn\u001b[39;00m \u001b[38;5;28mself\u001b[39m\u001b[38;5;241m.\u001b[39m_html\n",
                        "File \u001b[0;32m~/Desktop/Web-Scrapping/venv/lib/python3.12/site-packages/requests_html.py:421\u001b[0m, in \u001b[0;36mHTML.__init__\u001b[0;34m(self, session, url, html, default_encoding, async_)\u001b[0m\n\u001b[1;32m    416\u001b[0m \u001b[38;5;28;01mif\u001b[39;00m \u001b[38;5;28misinstance\u001b[39m(html, \u001b[38;5;28mstr\u001b[39m):\n\u001b[1;32m    417\u001b[0m     html \u001b[38;5;241m=\u001b[39m html\u001b[38;5;241m.\u001b[39mencode(DEFAULT_ENCODING)\n\u001b[1;32m    419\u001b[0m \u001b[38;5;28msuper\u001b[39m(HTML, \u001b[38;5;28mself\u001b[39m)\u001b[38;5;241m.\u001b[39m\u001b[38;5;21m__init__\u001b[39m(\n\u001b[1;32m    420\u001b[0m     \u001b[38;5;66;03m# Convert unicode HTML to bytes.\u001b[39;00m\n\u001b[0;32m--> 421\u001b[0m     element\u001b[38;5;241m=\u001b[39m\u001b[43mPyQuery\u001b[49m\u001b[43m(\u001b[49m\u001b[43mhtml\u001b[49m\u001b[43m)\u001b[49m(\u001b[38;5;124m'\u001b[39m\u001b[38;5;124mhtml\u001b[39m\u001b[38;5;124m'\u001b[39m) \u001b[38;5;129;01mor\u001b[39;00m PyQuery(\u001b[38;5;124mf\u001b[39m\u001b[38;5;124m'\u001b[39m\u001b[38;5;124m<html>\u001b[39m\u001b[38;5;132;01m{\u001b[39;00mhtml\u001b[38;5;132;01m}\u001b[39;00m\u001b[38;5;124m</html>\u001b[39m\u001b[38;5;124m'\u001b[39m)(\u001b[38;5;124m'\u001b[39m\u001b[38;5;124mhtml\u001b[39m\u001b[38;5;124m'\u001b[39m),\n\u001b[1;32m    422\u001b[0m     html\u001b[38;5;241m=\u001b[39mhtml,\n\u001b[1;32m    423\u001b[0m     url\u001b[38;5;241m=\u001b[39murl,\n\u001b[1;32m    424\u001b[0m     default_encoding\u001b[38;5;241m=\u001b[39mdefault_encoding\n\u001b[1;32m    425\u001b[0m )\n\u001b[1;32m    426\u001b[0m \u001b[38;5;28mself\u001b[39m\u001b[38;5;241m.\u001b[39msession \u001b[38;5;241m=\u001b[39m session \u001b[38;5;129;01mor\u001b[39;00m async_ \u001b[38;5;129;01mand\u001b[39;00m AsyncHTMLSession() \u001b[38;5;129;01mor\u001b[39;00m HTMLSession()\n\u001b[1;32m    427\u001b[0m \u001b[38;5;28mself\u001b[39m\u001b[38;5;241m.\u001b[39mpage \u001b[38;5;241m=\u001b[39m \u001b[38;5;28;01mNone\u001b[39;00m\n",
                        "File \u001b[0;32m~/Desktop/Web-Scrapping/venv/lib/python3.12/site-packages/pyquery/pyquery.py:230\u001b[0m, in \u001b[0;36mPyQuery.__init__\u001b[0;34m(self, *args, **kwargs)\u001b[0m\n\u001b[1;32m    228\u001b[0m \u001b[38;5;28;01mif\u001b[39;00m \u001b[38;5;28misinstance\u001b[39m(context, basestring):\n\u001b[1;32m    229\u001b[0m     \u001b[38;5;28;01mtry\u001b[39;00m:\n\u001b[0;32m--> 230\u001b[0m         elements \u001b[38;5;241m=\u001b[39m \u001b[43mfromstring\u001b[49m\u001b[43m(\u001b[49m\u001b[43mcontext\u001b[49m\u001b[43m,\u001b[49m\u001b[43m \u001b[49m\u001b[38;5;28;43mself\u001b[39;49m\u001b[38;5;241;43m.\u001b[39;49m\u001b[43mparser\u001b[49m\u001b[43m)\u001b[49m\n\u001b[1;32m    231\u001b[0m     \u001b[38;5;28;01mexcept\u001b[39;00m \u001b[38;5;167;01mException\u001b[39;00m:\n\u001b[1;32m    232\u001b[0m         \u001b[38;5;28;01mraise\u001b[39;00m\n",
                        "File \u001b[0;32m~/Desktop/Web-Scrapping/venv/lib/python3.12/site-packages/pyquery/pyquery.py:81\u001b[0m, in \u001b[0;36mfromstring\u001b[0;34m(context, parser, custom_parser)\u001b[0m\n\u001b[1;32m     79\u001b[0m     \u001b[38;5;28;01mif\u001b[39;00m \u001b[38;5;28mhasattr\u001b[39m(context, \u001b[38;5;124m'\u001b[39m\u001b[38;5;124mseek\u001b[39m\u001b[38;5;124m'\u001b[39m):\n\u001b[1;32m     80\u001b[0m         context\u001b[38;5;241m.\u001b[39mseek(\u001b[38;5;241m0\u001b[39m)\n\u001b[0;32m---> 81\u001b[0m     result \u001b[38;5;241m=\u001b[39m \u001b[38;5;28;43mgetattr\u001b[39;49m\u001b[43m(\u001b[49m\u001b[43mlxml\u001b[49m\u001b[38;5;241;43m.\u001b[39;49m\u001b[43mhtml\u001b[49m\u001b[43m,\u001b[49m\u001b[43m \u001b[49m\u001b[43mmeth\u001b[49m\u001b[43m)\u001b[49m\u001b[43m(\u001b[49m\u001b[43mcontext\u001b[49m\u001b[43m)\u001b[49m\n\u001b[1;32m     82\u001b[0m \u001b[38;5;28;01mif\u001b[39;00m \u001b[38;5;28misinstance\u001b[39m(result, etree\u001b[38;5;241m.\u001b[39m_ElementTree):\n\u001b[1;32m     83\u001b[0m     \u001b[38;5;28;01mreturn\u001b[39;00m [result\u001b[38;5;241m.\u001b[39mgetroot()]\n",
                        "File \u001b[0;32m~/Desktop/Web-Scrapping/venv/lib/python3.12/site-packages/lxml/html/__init__.py:850\u001b[0m, in \u001b[0;36mfromstring\u001b[0;34m(html, base_url, parser, **kw)\u001b[0m\n\u001b[1;32m    848\u001b[0m \u001b[38;5;28;01melse\u001b[39;00m:\n\u001b[1;32m    849\u001b[0m     is_full_html \u001b[38;5;241m=\u001b[39m _looks_like_full_html_unicode(html)\n\u001b[0;32m--> 850\u001b[0m doc \u001b[38;5;241m=\u001b[39m \u001b[43mdocument_fromstring\u001b[49m\u001b[43m(\u001b[49m\u001b[43mhtml\u001b[49m\u001b[43m,\u001b[49m\u001b[43m \u001b[49m\u001b[43mparser\u001b[49m\u001b[38;5;241;43m=\u001b[39;49m\u001b[43mparser\u001b[49m\u001b[43m,\u001b[49m\u001b[43m \u001b[49m\u001b[43mbase_url\u001b[49m\u001b[38;5;241;43m=\u001b[39;49m\u001b[43mbase_url\u001b[49m\u001b[43m,\u001b[49m\u001b[43m \u001b[49m\u001b[38;5;241;43m*\u001b[39;49m\u001b[38;5;241;43m*\u001b[39;49m\u001b[43mkw\u001b[49m\u001b[43m)\u001b[49m\n\u001b[1;32m    851\u001b[0m \u001b[38;5;28;01mif\u001b[39;00m is_full_html:\n\u001b[1;32m    852\u001b[0m     \u001b[38;5;28;01mreturn\u001b[39;00m doc\n",
                        "File \u001b[0;32m~/Desktop/Web-Scrapping/venv/lib/python3.12/site-packages/lxml/html/__init__.py:738\u001b[0m, in \u001b[0;36mdocument_fromstring\u001b[0;34m(html, parser, ensure_head_body, **kw)\u001b[0m\n\u001b[1;32m    736\u001b[0m value \u001b[38;5;241m=\u001b[39m etree\u001b[38;5;241m.\u001b[39mfromstring(html, parser, \u001b[38;5;241m*\u001b[39m\u001b[38;5;241m*\u001b[39mkw)\n\u001b[1;32m    737\u001b[0m \u001b[38;5;28;01mif\u001b[39;00m value \u001b[38;5;129;01mis\u001b[39;00m \u001b[38;5;28;01mNone\u001b[39;00m:\n\u001b[0;32m--> 738\u001b[0m     \u001b[38;5;28;01mraise\u001b[39;00m etree\u001b[38;5;241m.\u001b[39mParserError(\n\u001b[1;32m    739\u001b[0m         \u001b[38;5;124m\"\u001b[39m\u001b[38;5;124mDocument is empty\u001b[39m\u001b[38;5;124m\"\u001b[39m)\n\u001b[1;32m    740\u001b[0m \u001b[38;5;28;01mif\u001b[39;00m ensure_head_body \u001b[38;5;129;01mand\u001b[39;00m value\u001b[38;5;241m.\u001b[39mfind(\u001b[38;5;124m'\u001b[39m\u001b[38;5;124mhead\u001b[39m\u001b[38;5;124m'\u001b[39m) \u001b[38;5;129;01mis\u001b[39;00m \u001b[38;5;28;01mNone\u001b[39;00m:\n\u001b[1;32m    741\u001b[0m     value\u001b[38;5;241m.\u001b[39minsert(\u001b[38;5;241m0\u001b[39m, Element(\u001b[38;5;124m'\u001b[39m\u001b[38;5;124mhead\u001b[39m\u001b[38;5;124m'\u001b[39m))\n",
                        "\u001b[0;31mParserError\u001b[0m: Document is empty"
                    ]
                }
            ],
            "source": [
                "from requests_html import HTMLSession\n",
                "\n",
                "# Start an HTML session\n",
                "session = HTMLSession()\n",
                "\n",
                "# Set up headers to mimic a real browser request\n",
                "headers = {\n",
                "    'User-Agent': 'Mozilla/5.0 (Windows NT 10.0; Win64; x64) AppleWebKit/537.36 (KHTML, like Gecko) Chrome/85.0.4183.102 Safari/537.36',\n",
                "}\n",
                "\n",
                "# Send the GET request and render the JavaScript content\n",
                "response = session.get('https://feed.motors.co.uk/?widget-template=full&widget-offset=&postcode=&manufacturer=&model=&price_min=&price_max=&fuel=', headers=headers)\n",
                "\n",
                "# Render JavaScript (this may take a few seconds)\n",
                "response.html.render(timeout=20)\n",
                "\n",
                "# Output the content (for inspection)\n",
                "print(response.html.html)\n",
                "\n",
                "# Find the elements you're interested in\n",
                "# For example, find all text or specific HTML tags\n",
                "data = response.html.find('div')  # Adjust selector based on the website structure\n",
                "\n",
                "# Print or work with the data\n",
                "for item in data:\n",
                "    print(item.text)\n"
            ]
        },
        {
            "cell_type": "code",
            "execution_count": 24,
            "metadata": {},
            "outputs": [
                {
                    "name": "stdout",
                    "output_type": "stream",
                    "text": [
                        "\n"
                    ]
                }
            ],
            "source": [
                "if response.status_code == 200:\n",
                "    # Parse the response content, assuming it's JSON or text\n",
                "    try:\n",
                "        data = response.json()  # If it's a JSON response\n",
                "    except ValueError:\n",
                "        data = response.text  # Fallback for non-JSON response\n",
                "\n",
                "    # Print or work with the response data\n",
                "    print(data)\n",
                "else:\n",
                "    print(f\"Failed to retrieve data. Status code: {response.status_code}\")"
            ]
        },
        {
            "attachments": {},
            "cell_type": "markdown",
            "metadata": {
                "id": "US1-RKpel8Tm"
            },
            "source": [
                "#### 4 - Créer un objet Json"
            ]
        },
        {
            "attachments": {},
            "cell_type": "markdown",
            "metadata": {
                "id": "ab5GIysVQPRL"
            },
            "source": [
                "- Créer un objet json à partir de la réponse"
            ]
        },
        {
            "cell_type": "code",
            "execution_count": null,
            "metadata": {},
            "outputs": [],
            "source": [
                "https://feed.motors.co.uk/?widget-template=full&widget-offset=&postcode=&manufacturer=&model=&price_min=&price_max=&fuel="
            ]
        },
        {
            "cell_type": "code",
            "execution_count": 14,
            "metadata": {
                "id": "IcZ12ZsMdN01"
            },
            "outputs": [
                {
                    "ename": "JSONDecodeError",
                    "evalue": "Expecting value: line 1 column 1 (char 0)",
                    "output_type": "error",
                    "traceback": [
                        "\u001b[0;31m---------------------------------------------------------------------------\u001b[0m",
                        "\u001b[0;31mJSONDecodeError\u001b[0m                           Traceback (most recent call last)",
                        "File \u001b[0;32m~/Desktop/Web-Scrapping/venv/lib/python3.12/site-packages/requests/models.py:974\u001b[0m, in \u001b[0;36mResponse.json\u001b[0;34m(self, **kwargs)\u001b[0m\n\u001b[1;32m    973\u001b[0m \u001b[38;5;28;01mtry\u001b[39;00m:\n\u001b[0;32m--> 974\u001b[0m     \u001b[38;5;28;01mreturn\u001b[39;00m \u001b[43mcomplexjson\u001b[49m\u001b[38;5;241;43m.\u001b[39;49m\u001b[43mloads\u001b[49m\u001b[43m(\u001b[49m\u001b[38;5;28;43mself\u001b[39;49m\u001b[38;5;241;43m.\u001b[39;49m\u001b[43mtext\u001b[49m\u001b[43m,\u001b[49m\u001b[43m \u001b[49m\u001b[38;5;241;43m*\u001b[39;49m\u001b[38;5;241;43m*\u001b[39;49m\u001b[43mkwargs\u001b[49m\u001b[43m)\u001b[49m\n\u001b[1;32m    975\u001b[0m \u001b[38;5;28;01mexcept\u001b[39;00m JSONDecodeError \u001b[38;5;28;01mas\u001b[39;00m e:\n\u001b[1;32m    976\u001b[0m     \u001b[38;5;66;03m# Catch JSON-related errors and raise as requests.JSONDecodeError\u001b[39;00m\n\u001b[1;32m    977\u001b[0m     \u001b[38;5;66;03m# This aliases json.JSONDecodeError and simplejson.JSONDecodeError\u001b[39;00m\n",
                        "File \u001b[0;32m/Library/Frameworks/Python.framework/Versions/3.12/lib/python3.12/json/__init__.py:346\u001b[0m, in \u001b[0;36mloads\u001b[0;34m(s, cls, object_hook, parse_float, parse_int, parse_constant, object_pairs_hook, **kw)\u001b[0m\n\u001b[1;32m    343\u001b[0m \u001b[38;5;28;01mif\u001b[39;00m (\u001b[38;5;28mcls\u001b[39m \u001b[38;5;129;01mis\u001b[39;00m \u001b[38;5;28;01mNone\u001b[39;00m \u001b[38;5;129;01mand\u001b[39;00m object_hook \u001b[38;5;129;01mis\u001b[39;00m \u001b[38;5;28;01mNone\u001b[39;00m \u001b[38;5;129;01mand\u001b[39;00m\n\u001b[1;32m    344\u001b[0m         parse_int \u001b[38;5;129;01mis\u001b[39;00m \u001b[38;5;28;01mNone\u001b[39;00m \u001b[38;5;129;01mand\u001b[39;00m parse_float \u001b[38;5;129;01mis\u001b[39;00m \u001b[38;5;28;01mNone\u001b[39;00m \u001b[38;5;129;01mand\u001b[39;00m\n\u001b[1;32m    345\u001b[0m         parse_constant \u001b[38;5;129;01mis\u001b[39;00m \u001b[38;5;28;01mNone\u001b[39;00m \u001b[38;5;129;01mand\u001b[39;00m object_pairs_hook \u001b[38;5;129;01mis\u001b[39;00m \u001b[38;5;28;01mNone\u001b[39;00m \u001b[38;5;129;01mand\u001b[39;00m \u001b[38;5;129;01mnot\u001b[39;00m kw):\n\u001b[0;32m--> 346\u001b[0m     \u001b[38;5;28;01mreturn\u001b[39;00m \u001b[43m_default_decoder\u001b[49m\u001b[38;5;241;43m.\u001b[39;49m\u001b[43mdecode\u001b[49m\u001b[43m(\u001b[49m\u001b[43ms\u001b[49m\u001b[43m)\u001b[49m\n\u001b[1;32m    347\u001b[0m \u001b[38;5;28;01mif\u001b[39;00m \u001b[38;5;28mcls\u001b[39m \u001b[38;5;129;01mis\u001b[39;00m \u001b[38;5;28;01mNone\u001b[39;00m:\n",
                        "File \u001b[0;32m/Library/Frameworks/Python.framework/Versions/3.12/lib/python3.12/json/decoder.py:337\u001b[0m, in \u001b[0;36mJSONDecoder.decode\u001b[0;34m(self, s, _w)\u001b[0m\n\u001b[1;32m    333\u001b[0m \u001b[38;5;250m\u001b[39m\u001b[38;5;124;03m\"\"\"Return the Python representation of ``s`` (a ``str`` instance\u001b[39;00m\n\u001b[1;32m    334\u001b[0m \u001b[38;5;124;03mcontaining a JSON document).\u001b[39;00m\n\u001b[1;32m    335\u001b[0m \n\u001b[1;32m    336\u001b[0m \u001b[38;5;124;03m\"\"\"\u001b[39;00m\n\u001b[0;32m--> 337\u001b[0m obj, end \u001b[38;5;241m=\u001b[39m \u001b[38;5;28;43mself\u001b[39;49m\u001b[38;5;241;43m.\u001b[39;49m\u001b[43mraw_decode\u001b[49m\u001b[43m(\u001b[49m\u001b[43ms\u001b[49m\u001b[43m,\u001b[49m\u001b[43m \u001b[49m\u001b[43midx\u001b[49m\u001b[38;5;241;43m=\u001b[39;49m\u001b[43m_w\u001b[49m\u001b[43m(\u001b[49m\u001b[43ms\u001b[49m\u001b[43m,\u001b[49m\u001b[43m \u001b[49m\u001b[38;5;241;43m0\u001b[39;49m\u001b[43m)\u001b[49m\u001b[38;5;241;43m.\u001b[39;49m\u001b[43mend\u001b[49m\u001b[43m(\u001b[49m\u001b[43m)\u001b[49m\u001b[43m)\u001b[49m\n\u001b[1;32m    338\u001b[0m end \u001b[38;5;241m=\u001b[39m _w(s, end)\u001b[38;5;241m.\u001b[39mend()\n",
                        "File \u001b[0;32m/Library/Frameworks/Python.framework/Versions/3.12/lib/python3.12/json/decoder.py:355\u001b[0m, in \u001b[0;36mJSONDecoder.raw_decode\u001b[0;34m(self, s, idx)\u001b[0m\n\u001b[1;32m    354\u001b[0m \u001b[38;5;28;01mexcept\u001b[39;00m \u001b[38;5;167;01mStopIteration\u001b[39;00m \u001b[38;5;28;01mas\u001b[39;00m err:\n\u001b[0;32m--> 355\u001b[0m     \u001b[38;5;28;01mraise\u001b[39;00m JSONDecodeError(\u001b[38;5;124m\"\u001b[39m\u001b[38;5;124mExpecting value\u001b[39m\u001b[38;5;124m\"\u001b[39m, s, err\u001b[38;5;241m.\u001b[39mvalue) \u001b[38;5;28;01mfrom\u001b[39;00m \u001b[38;5;28;01mNone\u001b[39;00m\n\u001b[1;32m    356\u001b[0m \u001b[38;5;28;01mreturn\u001b[39;00m obj, end\n",
                        "\u001b[0;31mJSONDecodeError\u001b[0m: Expecting value: line 1 column 1 (char 0)",
                        "\nDuring handling of the above exception, another exception occurred:\n",
                        "\u001b[0;31mJSONDecodeError\u001b[0m                           Traceback (most recent call last)",
                        "Cell \u001b[0;32mIn[14], line 1\u001b[0m\n\u001b[0;32m----> 1\u001b[0m results_json \u001b[38;5;241m=\u001b[39m \u001b[43mresponse\u001b[49m\u001b[38;5;241;43m.\u001b[39;49m\u001b[43mjson\u001b[49m\u001b[43m(\u001b[49m\u001b[43m)\u001b[49m\n\u001b[1;32m      2\u001b[0m results_json\n",
                        "File \u001b[0;32m~/Desktop/Web-Scrapping/venv/lib/python3.12/site-packages/requests/models.py:978\u001b[0m, in \u001b[0;36mResponse.json\u001b[0;34m(self, **kwargs)\u001b[0m\n\u001b[1;32m    974\u001b[0m     \u001b[38;5;28;01mreturn\u001b[39;00m complexjson\u001b[38;5;241m.\u001b[39mloads(\u001b[38;5;28mself\u001b[39m\u001b[38;5;241m.\u001b[39mtext, \u001b[38;5;241m*\u001b[39m\u001b[38;5;241m*\u001b[39mkwargs)\n\u001b[1;32m    975\u001b[0m \u001b[38;5;28;01mexcept\u001b[39;00m JSONDecodeError \u001b[38;5;28;01mas\u001b[39;00m e:\n\u001b[1;32m    976\u001b[0m     \u001b[38;5;66;03m# Catch JSON-related errors and raise as requests.JSONDecodeError\u001b[39;00m\n\u001b[1;32m    977\u001b[0m     \u001b[38;5;66;03m# This aliases json.JSONDecodeError and simplejson.JSONDecodeError\u001b[39;00m\n\u001b[0;32m--> 978\u001b[0m     \u001b[38;5;28;01mraise\u001b[39;00m RequestsJSONDecodeError(e\u001b[38;5;241m.\u001b[39mmsg, e\u001b[38;5;241m.\u001b[39mdoc, e\u001b[38;5;241m.\u001b[39mpos)\n",
                        "\u001b[0;31mJSONDecodeError\u001b[0m: Expecting value: line 1 column 1 (char 0)"
                    ]
                }
            ],
            "source": [
                "results_json = response.json()\n",
                "results_json"
            ]
        },
        {
            "cell_type": "markdown",
            "metadata": {
                "id": "ovOfRzAzmC-g"
            },
            "source": [
                "#### 5 - Output Keys"
            ]
        },
        {
            "attachments": {},
            "cell_type": "markdown",
            "metadata": {
                "id": "mKYEwSNTQYPk"
            },
            "source": [
                "- Sortie des clés de notre fichier results_json"
            ]
        },
        {
            "cell_type": "code",
            "execution_count": null,
            "metadata": {
                "colab": {
                    "base_uri": "https://localhost:8080/"
                },
                "id": "ZxTHHug_dSAL",
                "outputId": "f6fd8de8-8774-4d31-ca5f-5439050f680e"
            },
            "outputs": [
                {
                    "data": {
                        "text/plain": [
                            "dict_keys(['results', 'filters', 'pagination'])"
                        ]
                    },
                    "execution_count": 5,
                    "metadata": {},
                    "output_type": "execute_result"
                }
            ],
            "source": [
                "#fill_here"
            ]
        },
        {
            "cell_type": "code",
            "execution_count": null,
            "metadata": {
                "id": "a5YhhhAFdT2F"
            },
            "outputs": [],
            "source": [
                "listing = results_json['results']"
            ]
        },
        {
            "attachments": {},
            "cell_type": "markdown",
            "metadata": {
                "id": "vpDzRY3SmKoZ"
            },
            "source": [
                "#### 6 - Trouvez vos données \n",
                "- marque\n",
                "- modèle\n",
                "- type de carburant\n",
                "- Kilométrage\n",
                "- année du modèle\n",
                "- prix"
            ]
        },
        {
            "cell_type": "code",
            "execution_count": null,
            "metadata": {
                "colab": {
                    "base_uri": "https://localhost:8080/",
                    "height": 35
                },
                "id": "a0v3rpUWdXGC",
                "outputId": "8cd4303e-e7e0-4bdf-c814-8bb9b1985d66"
            },
            "outputs": [
                {
                    "data": {
                        "application/vnd.google.colaboratory.intrinsic+json": {
                            "type": "string"
                        },
                        "text/plain": [
                            "'Peugeot'"
                        ]
                    },
                    "execution_count": 7,
                    "metadata": {},
                    "output_type": "execute_result"
                }
            ],
            "source": [
                "# brand\n",
                "listing[0]['make']"
            ]
        },
        {
            "cell_type": "code",
            "execution_count": null,
            "metadata": {
                "colab": {
                    "base_uri": "https://localhost:8080/",
                    "height": 35
                },
                "id": "Jc5rdNf1dZYo",
                "outputId": "5020f094-877e-49fe-c220-9c893158ec30"
            },
            "outputs": [
                {
                    "data": {
                        "application/vnd.google.colaboratory.intrinsic+json": {
                            "type": "string"
                        },
                        "text/plain": [
                            "'108'"
                        ]
                    },
                    "execution_count": 8,
                    "metadata": {},
                    "output_type": "execute_result"
                }
            ],
            "source": [
                "# model\n",
                "#fill_here"
            ]
        },
        {
            "cell_type": "code",
            "execution_count": null,
            "metadata": {
                "colab": {
                    "base_uri": "https://localhost:8080/",
                    "height": 35
                },
                "id": "JRomkyH7db6u",
                "outputId": "56876368-7705-4315-d4d5-903f10095c27"
            },
            "outputs": [
                {
                    "data": {
                        "application/vnd.google.colaboratory.intrinsic+json": {
                            "type": "string"
                        },
                        "text/plain": [
                            "'Petrol'"
                        ]
                    },
                    "execution_count": 9,
                    "metadata": {},
                    "output_type": "execute_result"
                }
            ],
            "source": [
                "# fuel type\n",
                "#fill_here"
            ]
        },
        {
            "cell_type": "code",
            "execution_count": null,
            "metadata": {
                "colab": {
                    "base_uri": "https://localhost:8080/"
                },
                "id": "UbFlfZcvdem7",
                "outputId": "1d49f3d0-9b27-4093-9d75-e72865d2af02"
            },
            "outputs": [
                {
                    "data": {
                        "text/plain": [
                            "34207"
                        ]
                    },
                    "execution_count": 10,
                    "metadata": {},
                    "output_type": "execute_result"
                }
            ],
            "source": [
                "#miles\n",
                "#fill_here"
            ]
        },
        {
            "cell_type": "code",
            "execution_count": null,
            "metadata": {
                "colab": {
                    "base_uri": "https://localhost:8080/"
                },
                "id": "DTc42A5hdkq6",
                "outputId": "3ec2ceaa-c3bd-49fe-80d6-aa47858039c5"
            },
            "outputs": [
                {
                    "data": {
                        "text/plain": [
                            "2015"
                        ]
                    },
                    "execution_count": 11,
                    "metadata": {},
                    "output_type": "execute_result"
                }
            ],
            "source": [
                "# model year\n",
                "#fill_here"
            ]
        },
        {
            "cell_type": "code",
            "execution_count": null,
            "metadata": {
                "colab": {
                    "base_uri": "https://localhost:8080/"
                },
                "id": "TRssI5EWdmyI",
                "outputId": "e524b874-91fd-4e62-8f5e-2dd6f254c7fc"
            },
            "outputs": [
                {
                    "data": {
                        "text/plain": [
                            "6550"
                        ]
                    },
                    "execution_count": 12,
                    "metadata": {},
                    "output_type": "execute_result"
                }
            ],
            "source": [
                "# price\n",
                "#fill_here"
            ]
        },
        {
            "attachments": {},
            "cell_type": "markdown",
            "metadata": {
                "id": "qpH4YM-EmUQX"
            },
            "source": [
                "#### 7 - Mettre tout ensemble - Boucler les résultats et ajouter des données dans une liste"
            ]
        },
        {
            "cell_type": "code",
            "execution_count": null,
            "metadata": {
                "id": "WhUds9hDdp7O"
            },
            "outputs": [],
            "source": [
                "# empty lists\n",
                "brand = []\n",
                "model = []\n",
                "fuel_type = []\n",
                "miles = []\n",
                "model_year = []\n",
                "price = []\n",
                "\n",
                "for result in listing:\n",
                "    \n",
                "    # brand\n",
                "    brand.append(result['make'])\n",
                "    \n",
                "    # model \n",
                "    #fill_here\n",
                "    # fuel type\n",
                "    #fill_here\n",
                "    \n",
                "    # miles\n",
                "    #fill_here\n",
                "    \n",
                "    #model year\n",
                "    #fill_here\n",
                "    # price\n",
                "    #fill_here"
            ]
        },
        {
            "cell_type": "markdown",
            "metadata": {
                "id": "Fpmmv4LamcfV"
            },
            "source": [
                "#### 8 - Pandas Dataframe - Single Page"
            ]
        },
        {
            "cell_type": "code",
            "execution_count": null,
            "metadata": {
                "id": "JzzM470Ldrq7"
            },
            "outputs": [],
            "source": [
                "car_df = pd.DataFrame({'Brand': brand, 'Model':model, 'Fuel Type': fuel_type, 'Mileage':miles,\n",
                "                      'Model Year': model_year, 'Price':price})"
            ]
        },
        {
            "cell_type": "code",
            "execution_count": null,
            "metadata": {
                "colab": {
                    "base_uri": "https://localhost:8080/",
                    "height": 1000
                },
                "id": "1g5u5Mefd4n0",
                "outputId": "05bdf0a3-cb13-48e8-aee3-e62a38329577"
            },
            "outputs": [
                {
                    "data": {
                        "text/html": [
                            "\n",
                            "  <div id=\"df-912b043b-3019-4a9f-847d-6408e78d6571\">\n",
                            "    <div class=\"colab-df-container\">\n",
                            "      <div>\n",
                            "<style scoped>\n",
                            "    .dataframe tbody tr th:only-of-type {\n",
                            "        vertical-align: middle;\n",
                            "    }\n",
                            "\n",
                            "    .dataframe tbody tr th {\n",
                            "        vertical-align: top;\n",
                            "    }\n",
                            "\n",
                            "    .dataframe thead th {\n",
                            "        text-align: right;\n",
                            "    }\n",
                            "</style>\n",
                            "<table border=\"1\" class=\"dataframe\">\n",
                            "  <thead>\n",
                            "    <tr style=\"text-align: right;\">\n",
                            "      <th></th>\n",
                            "      <th>Brand</th>\n",
                            "      <th>Model</th>\n",
                            "      <th>Fuel Type</th>\n",
                            "      <th>Mileage</th>\n",
                            "      <th>Model Year</th>\n",
                            "      <th>Price</th>\n",
                            "    </tr>\n",
                            "  </thead>\n",
                            "  <tbody>\n",
                            "    <tr>\n",
                            "      <th>0</th>\n",
                            "      <td>Peugeot</td>\n",
                            "      <td>108</td>\n",
                            "      <td>Petrol</td>\n",
                            "      <td>34207</td>\n",
                            "      <td>2015</td>\n",
                            "      <td>6550</td>\n",
                            "    </tr>\n",
                            "    <tr>\n",
                            "      <th>1</th>\n",
                            "      <td>Dacia</td>\n",
                            "      <td>Sandero Stepway</td>\n",
                            "      <td>Petrol</td>\n",
                            "      <td>65547</td>\n",
                            "      <td>2012</td>\n",
                            "      <td>6550</td>\n",
                            "    </tr>\n",
                            "    <tr>\n",
                            "      <th>2</th>\n",
                            "      <td>Suzuki</td>\n",
                            "      <td>Celerio</td>\n",
                            "      <td>Petrol</td>\n",
                            "      <td>23190</td>\n",
                            "      <td>2015</td>\n",
                            "      <td>6650</td>\n",
                            "    </tr>\n",
                            "    <tr>\n",
                            "      <th>3</th>\n",
                            "      <td>Fiat</td>\n",
                            "      <td>500</td>\n",
                            "      <td>Petrol</td>\n",
                            "      <td>41216</td>\n",
                            "      <td>2015</td>\n",
                            "      <td>6850</td>\n",
                            "    </tr>\n",
                            "    <tr>\n",
                            "      <th>4</th>\n",
                            "      <td>Dacia</td>\n",
                            "      <td>Sandero</td>\n",
                            "      <td>Petrol</td>\n",
                            "      <td>10837</td>\n",
                            "      <td>2012</td>\n",
                            "      <td>6900</td>\n",
                            "    </tr>\n",
                            "    <tr>\n",
                            "      <th>5</th>\n",
                            "      <td>Ford</td>\n",
                            "      <td>Ka</td>\n",
                            "      <td>Petrol</td>\n",
                            "      <td>34980</td>\n",
                            "      <td>2015</td>\n",
                            "      <td>6950</td>\n",
                            "    </tr>\n",
                            "    <tr>\n",
                            "      <th>6</th>\n",
                            "      <td>Suzuki</td>\n",
                            "      <td>Celerio</td>\n",
                            "      <td>Petrol</td>\n",
                            "      <td>23778</td>\n",
                            "      <td>2015</td>\n",
                            "      <td>7050</td>\n",
                            "    </tr>\n",
                            "    <tr>\n",
                            "      <th>7</th>\n",
                            "      <td>Citroen</td>\n",
                            "      <td>C1</td>\n",
                            "      <td>Petrol</td>\n",
                            "      <td>29950</td>\n",
                            "      <td>2016</td>\n",
                            "      <td>7150</td>\n",
                            "    </tr>\n",
                            "    <tr>\n",
                            "      <th>8</th>\n",
                            "      <td>Dacia</td>\n",
                            "      <td>Sandero</td>\n",
                            "      <td>Petrol</td>\n",
                            "      <td>30780</td>\n",
                            "      <td>2017</td>\n",
                            "      <td>7150</td>\n",
                            "    </tr>\n",
                            "    <tr>\n",
                            "      <th>9</th>\n",
                            "      <td>Toyota</td>\n",
                            "      <td>AYGO</td>\n",
                            "      <td>Petrol</td>\n",
                            "      <td>55659</td>\n",
                            "      <td>2017</td>\n",
                            "      <td>7250</td>\n",
                            "    </tr>\n",
                            "    <tr>\n",
                            "      <th>10</th>\n",
                            "      <td>Citroen</td>\n",
                            "      <td>C3 Picasso</td>\n",
                            "      <td>Petrol</td>\n",
                            "      <td>61634</td>\n",
                            "      <td>2016</td>\n",
                            "      <td>7250</td>\n",
                            "    </tr>\n",
                            "    <tr>\n",
                            "      <th>11</th>\n",
                            "      <td>Kia</td>\n",
                            "      <td>Picanto</td>\n",
                            "      <td>Petrol</td>\n",
                            "      <td>36057</td>\n",
                            "      <td>2015</td>\n",
                            "      <td>7300</td>\n",
                            "    </tr>\n",
                            "    <tr>\n",
                            "      <th>12</th>\n",
                            "      <td>Toyota</td>\n",
                            "      <td>AYGO</td>\n",
                            "      <td>Petrol</td>\n",
                            "      <td>36463</td>\n",
                            "      <td>2016</td>\n",
                            "      <td>7350</td>\n",
                            "    </tr>\n",
                            "    <tr>\n",
                            "      <th>13</th>\n",
                            "      <td>Fiat</td>\n",
                            "      <td>500</td>\n",
                            "      <td>Petrol</td>\n",
                            "      <td>35522</td>\n",
                            "      <td>2015</td>\n",
                            "      <td>7350</td>\n",
                            "    </tr>\n",
                            "    <tr>\n",
                            "      <th>14</th>\n",
                            "      <td>Dacia</td>\n",
                            "      <td>Sandero</td>\n",
                            "      <td>Petrol</td>\n",
                            "      <td>27495</td>\n",
                            "      <td>2017</td>\n",
                            "      <td>7450</td>\n",
                            "    </tr>\n",
                            "    <tr>\n",
                            "      <th>15</th>\n",
                            "      <td>Vauxhall</td>\n",
                            "      <td>Astra GTC</td>\n",
                            "      <td>Petrol</td>\n",
                            "      <td>42517</td>\n",
                            "      <td>2015</td>\n",
                            "      <td>7450</td>\n",
                            "    </tr>\n",
                            "    <tr>\n",
                            "      <th>16</th>\n",
                            "      <td>Vauxhall</td>\n",
                            "      <td>Corsa</td>\n",
                            "      <td>Petrol</td>\n",
                            "      <td>38675</td>\n",
                            "      <td>2016</td>\n",
                            "      <td>7550</td>\n",
                            "    </tr>\n",
                            "    <tr>\n",
                            "      <th>17</th>\n",
                            "      <td>Vauxhall</td>\n",
                            "      <td>Viva</td>\n",
                            "      <td>Petrol</td>\n",
                            "      <td>16550</td>\n",
                            "      <td>2016</td>\n",
                            "      <td>7550</td>\n",
                            "    </tr>\n",
                            "    <tr>\n",
                            "      <th>18</th>\n",
                            "      <td>Fiat</td>\n",
                            "      <td>Tipo</td>\n",
                            "      <td>Diesel</td>\n",
                            "      <td>50445</td>\n",
                            "      <td>2016</td>\n",
                            "      <td>7550</td>\n",
                            "    </tr>\n",
                            "    <tr>\n",
                            "      <th>19</th>\n",
                            "      <td>Ford</td>\n",
                            "      <td>Ka</td>\n",
                            "      <td>Petrol</td>\n",
                            "      <td>28293</td>\n",
                            "      <td>2015</td>\n",
                            "      <td>7600</td>\n",
                            "    </tr>\n",
                            "    <tr>\n",
                            "      <th>20</th>\n",
                            "      <td>Fiat</td>\n",
                            "      <td>500</td>\n",
                            "      <td>Petrol</td>\n",
                            "      <td>38115</td>\n",
                            "      <td>2015</td>\n",
                            "      <td>7600</td>\n",
                            "    </tr>\n",
                            "    <tr>\n",
                            "      <th>21</th>\n",
                            "      <td>Ford</td>\n",
                            "      <td>Fiesta</td>\n",
                            "      <td>Petrol</td>\n",
                            "      <td>61086</td>\n",
                            "      <td>2017</td>\n",
                            "      <td>7650</td>\n",
                            "    </tr>\n",
                            "    <tr>\n",
                            "      <th>22</th>\n",
                            "      <td>Peugeot</td>\n",
                            "      <td>108</td>\n",
                            "      <td>Petrol</td>\n",
                            "      <td>14824</td>\n",
                            "      <td>2015</td>\n",
                            "      <td>7650</td>\n",
                            "    </tr>\n",
                            "    <tr>\n",
                            "      <th>23</th>\n",
                            "      <td>Fiat</td>\n",
                            "      <td>500</td>\n",
                            "      <td>Petrol</td>\n",
                            "      <td>17693</td>\n",
                            "      <td>2015</td>\n",
                            "      <td>7700</td>\n",
                            "    </tr>\n",
                            "    <tr>\n",
                            "      <th>24</th>\n",
                            "      <td>Fiat</td>\n",
                            "      <td>500</td>\n",
                            "      <td>Petrol</td>\n",
                            "      <td>33133</td>\n",
                            "      <td>2017</td>\n",
                            "      <td>7700</td>\n",
                            "    </tr>\n",
                            "    <tr>\n",
                            "      <th>25</th>\n",
                            "      <td>Vauxhall</td>\n",
                            "      <td>Corsa</td>\n",
                            "      <td>Petrol</td>\n",
                            "      <td>62525</td>\n",
                            "      <td>2017</td>\n",
                            "      <td>7750</td>\n",
                            "    </tr>\n",
                            "    <tr>\n",
                            "      <th>26</th>\n",
                            "      <td>Fiat</td>\n",
                            "      <td>500</td>\n",
                            "      <td>Petrol</td>\n",
                            "      <td>47463</td>\n",
                            "      <td>2015</td>\n",
                            "      <td>7750</td>\n",
                            "    </tr>\n",
                            "    <tr>\n",
                            "      <th>27</th>\n",
                            "      <td>Peugeot</td>\n",
                            "      <td>2008</td>\n",
                            "      <td>Petrol</td>\n",
                            "      <td>52965</td>\n",
                            "      <td>2015</td>\n",
                            "      <td>7750</td>\n",
                            "    </tr>\n",
                            "    <tr>\n",
                            "      <th>28</th>\n",
                            "      <td>Volkswagen</td>\n",
                            "      <td>up!</td>\n",
                            "      <td>Petrol</td>\n",
                            "      <td>13127</td>\n",
                            "      <td>2015</td>\n",
                            "      <td>7800</td>\n",
                            "    </tr>\n",
                            "    <tr>\n",
                            "      <th>29</th>\n",
                            "      <td>Toyota</td>\n",
                            "      <td>AYGO</td>\n",
                            "      <td>Petrol</td>\n",
                            "      <td>33907</td>\n",
                            "      <td>2015</td>\n",
                            "      <td>7850</td>\n",
                            "    </tr>\n",
                            "    <tr>\n",
                            "      <th>30</th>\n",
                            "      <td>Toyota</td>\n",
                            "      <td>AYGO</td>\n",
                            "      <td>Petrol</td>\n",
                            "      <td>36871</td>\n",
                            "      <td>2018</td>\n",
                            "      <td>7850</td>\n",
                            "    </tr>\n",
                            "    <tr>\n",
                            "      <th>31</th>\n",
                            "      <td>Toyota</td>\n",
                            "      <td>AYGO</td>\n",
                            "      <td>Petrol</td>\n",
                            "      <td>31724</td>\n",
                            "      <td>2016</td>\n",
                            "      <td>7850</td>\n",
                            "    </tr>\n",
                            "    <tr>\n",
                            "      <th>32</th>\n",
                            "      <td>Toyota</td>\n",
                            "      <td>AYGO</td>\n",
                            "      <td>Petrol</td>\n",
                            "      <td>22523</td>\n",
                            "      <td>2015</td>\n",
                            "      <td>7850</td>\n",
                            "    </tr>\n",
                            "    <tr>\n",
                            "      <th>33</th>\n",
                            "      <td>DS</td>\n",
                            "      <td>DS 3</td>\n",
                            "      <td>Petrol</td>\n",
                            "      <td>40837</td>\n",
                            "      <td>2015</td>\n",
                            "      <td>7900</td>\n",
                            "    </tr>\n",
                            "    <tr>\n",
                            "      <th>34</th>\n",
                            "      <td>Ford</td>\n",
                            "      <td>Fiesta</td>\n",
                            "      <td>Petrol</td>\n",
                            "      <td>64720</td>\n",
                            "      <td>2016</td>\n",
                            "      <td>7900</td>\n",
                            "    </tr>\n",
                            "    <tr>\n",
                            "      <th>35</th>\n",
                            "      <td>Fiat</td>\n",
                            "      <td>500</td>\n",
                            "      <td>Petrol</td>\n",
                            "      <td>27119</td>\n",
                            "      <td>2015</td>\n",
                            "      <td>7950</td>\n",
                            "    </tr>\n",
                            "    <tr>\n",
                            "      <th>36</th>\n",
                            "      <td>Fiat</td>\n",
                            "      <td>500</td>\n",
                            "      <td>Petrol</td>\n",
                            "      <td>21691</td>\n",
                            "      <td>2015</td>\n",
                            "      <td>7950</td>\n",
                            "    </tr>\n",
                            "    <tr>\n",
                            "      <th>37</th>\n",
                            "      <td>Fiat</td>\n",
                            "      <td>500</td>\n",
                            "      <td>Petrol</td>\n",
                            "      <td>23006</td>\n",
                            "      <td>2015</td>\n",
                            "      <td>7950</td>\n",
                            "    </tr>\n",
                            "    <tr>\n",
                            "      <th>38</th>\n",
                            "      <td>Fiat</td>\n",
                            "      <td>500</td>\n",
                            "      <td>Petrol</td>\n",
                            "      <td>28516</td>\n",
                            "      <td>2015</td>\n",
                            "      <td>7950</td>\n",
                            "    </tr>\n",
                            "    <tr>\n",
                            "      <th>39</th>\n",
                            "      <td>Vauxhall</td>\n",
                            "      <td>Astra</td>\n",
                            "      <td>Diesel</td>\n",
                            "      <td>37435</td>\n",
                            "      <td>2016</td>\n",
                            "      <td>7950</td>\n",
                            "    </tr>\n",
                            "    <tr>\n",
                            "      <th>40</th>\n",
                            "      <td>DS</td>\n",
                            "      <td>DS 3</td>\n",
                            "      <td>Petrol</td>\n",
                            "      <td>43589</td>\n",
                            "      <td>2017</td>\n",
                            "      <td>8000</td>\n",
                            "    </tr>\n",
                            "    <tr>\n",
                            "      <th>41</th>\n",
                            "      <td>Kia</td>\n",
                            "      <td>Picanto</td>\n",
                            "      <td>Petrol</td>\n",
                            "      <td>29356</td>\n",
                            "      <td>2015</td>\n",
                            "      <td>8000</td>\n",
                            "    </tr>\n",
                            "    <tr>\n",
                            "      <th>42</th>\n",
                            "      <td>Seat</td>\n",
                            "      <td>Ibiza</td>\n",
                            "      <td>Petrol</td>\n",
                            "      <td>91225</td>\n",
                            "      <td>2018</td>\n",
                            "      <td>8000</td>\n",
                            "    </tr>\n",
                            "    <tr>\n",
                            "      <th>43</th>\n",
                            "      <td>Smart</td>\n",
                            "      <td>forfour</td>\n",
                            "      <td>Petrol</td>\n",
                            "      <td>5316</td>\n",
                            "      <td>2018</td>\n",
                            "      <td>8000</td>\n",
                            "    </tr>\n",
                            "    <tr>\n",
                            "      <th>44</th>\n",
                            "      <td>Ford</td>\n",
                            "      <td>Fiesta</td>\n",
                            "      <td>Petrol</td>\n",
                            "      <td>59500</td>\n",
                            "      <td>2016</td>\n",
                            "      <td>8050</td>\n",
                            "    </tr>\n",
                            "    <tr>\n",
                            "      <th>45</th>\n",
                            "      <td>Ford</td>\n",
                            "      <td>Fiesta</td>\n",
                            "      <td>Petrol</td>\n",
                            "      <td>41048</td>\n",
                            "      <td>2016</td>\n",
                            "      <td>8050</td>\n",
                            "    </tr>\n",
                            "    <tr>\n",
                            "      <th>46</th>\n",
                            "      <td>Smart</td>\n",
                            "      <td>forfour</td>\n",
                            "      <td>Petrol</td>\n",
                            "      <td>7800</td>\n",
                            "      <td>2018</td>\n",
                            "      <td>8050</td>\n",
                            "    </tr>\n",
                            "    <tr>\n",
                            "      <th>47</th>\n",
                            "      <td>Vauxhall</td>\n",
                            "      <td>Corsa</td>\n",
                            "      <td>Petrol</td>\n",
                            "      <td>59965</td>\n",
                            "      <td>2017</td>\n",
                            "      <td>8100</td>\n",
                            "    </tr>\n",
                            "  </tbody>\n",
                            "</table>\n",
                            "</div>\n",
                            "      <button class=\"colab-df-convert\" onclick=\"convertToInteractive('df-912b043b-3019-4a9f-847d-6408e78d6571')\"\n",
                            "              title=\"Convert this dataframe to an interactive table.\"\n",
                            "              style=\"display:none;\">\n",
                            "        \n",
                            "  <svg xmlns=\"http://www.w3.org/2000/svg\" height=\"24px\"viewBox=\"0 0 24 24\"\n",
                            "       width=\"24px\">\n",
                            "    <path d=\"M0 0h24v24H0V0z\" fill=\"none\"/>\n",
                            "    <path d=\"M18.56 5.44l.94 2.06.94-2.06 2.06-.94-2.06-.94-.94-2.06-.94 2.06-2.06.94zm-11 1L8.5 8.5l.94-2.06 2.06-.94-2.06-.94L8.5 2.5l-.94 2.06-2.06.94zm10 10l.94 2.06.94-2.06 2.06-.94-2.06-.94-.94-2.06-.94 2.06-2.06.94z\"/><path d=\"M17.41 7.96l-1.37-1.37c-.4-.4-.92-.59-1.43-.59-.52 0-1.04.2-1.43.59L10.3 9.45l-7.72 7.72c-.78.78-.78 2.05 0 2.83L4 21.41c.39.39.9.59 1.41.59.51 0 1.02-.2 1.41-.59l7.78-7.78 2.81-2.81c.8-.78.8-2.07 0-2.86zM5.41 20L4 18.59l7.72-7.72 1.47 1.35L5.41 20z\"/>\n",
                            "  </svg>\n",
                            "      </button>\n",
                            "      \n",
                            "  <style>\n",
                            "    .colab-df-container {\n",
                            "      display:flex;\n",
                            "      flex-wrap:wrap;\n",
                            "      gap: 12px;\n",
                            "    }\n",
                            "\n",
                            "    .colab-df-convert {\n",
                            "      background-color: #E8F0FE;\n",
                            "      border: none;\n",
                            "      border-radius: 50%;\n",
                            "      cursor: pointer;\n",
                            "      display: none;\n",
                            "      fill: #1967D2;\n",
                            "      height: 32px;\n",
                            "      padding: 0 0 0 0;\n",
                            "      width: 32px;\n",
                            "    }\n",
                            "\n",
                            "    .colab-df-convert:hover {\n",
                            "      background-color: #E2EBFA;\n",
                            "      box-shadow: 0px 1px 2px rgba(60, 64, 67, 0.3), 0px 1px 3px 1px rgba(60, 64, 67, 0.15);\n",
                            "      fill: #174EA6;\n",
                            "    }\n",
                            "\n",
                            "    [theme=dark] .colab-df-convert {\n",
                            "      background-color: #3B4455;\n",
                            "      fill: #D2E3FC;\n",
                            "    }\n",
                            "\n",
                            "    [theme=dark] .colab-df-convert:hover {\n",
                            "      background-color: #434B5C;\n",
                            "      box-shadow: 0px 1px 3px 1px rgba(0, 0, 0, 0.15);\n",
                            "      filter: drop-shadow(0px 1px 2px rgba(0, 0, 0, 0.3));\n",
                            "      fill: #FFFFFF;\n",
                            "    }\n",
                            "  </style>\n",
                            "\n",
                            "      <script>\n",
                            "        const buttonEl =\n",
                            "          document.querySelector('#df-912b043b-3019-4a9f-847d-6408e78d6571 button.colab-df-convert');\n",
                            "        buttonEl.style.display =\n",
                            "          google.colab.kernel.accessAllowed ? 'block' : 'none';\n",
                            "\n",
                            "        async function convertToInteractive(key) {\n",
                            "          const element = document.querySelector('#df-912b043b-3019-4a9f-847d-6408e78d6571');\n",
                            "          const dataTable =\n",
                            "            await google.colab.kernel.invokeFunction('convertToInteractive',\n",
                            "                                                     [key], {});\n",
                            "          if (!dataTable) return;\n",
                            "\n",
                            "          const docLinkHtml = 'Like what you see? Visit the ' +\n",
                            "            '<a target=\"_blank\" href=https://colab.research.google.com/notebooks/data_table.ipynb>data table notebook</a>'\n",
                            "            + ' to learn more about interactive tables.';\n",
                            "          element.innerHTML = '';\n",
                            "          dataTable['output_type'] = 'display_data';\n",
                            "          await google.colab.output.renderOutput(dataTable, element);\n",
                            "          const docLink = document.createElement('div');\n",
                            "          docLink.innerHTML = docLinkHtml;\n",
                            "          element.appendChild(docLink);\n",
                            "        }\n",
                            "      </script>\n",
                            "    </div>\n",
                            "  </div>\n",
                            "  "
                        ],
                        "text/plain": [
                            "         Brand            Model Fuel Type  Mileage  Model Year  Price\n",
                            "0      Peugeot              108    Petrol    34207        2015   6550\n",
                            "1        Dacia  Sandero Stepway    Petrol    65547        2012   6550\n",
                            "2       Suzuki          Celerio    Petrol    23190        2015   6650\n",
                            "3         Fiat              500    Petrol    41216        2015   6850\n",
                            "4        Dacia          Sandero    Petrol    10837        2012   6900\n",
                            "5         Ford               Ka    Petrol    34980        2015   6950\n",
                            "6       Suzuki          Celerio    Petrol    23778        2015   7050\n",
                            "7      Citroen               C1    Petrol    29950        2016   7150\n",
                            "8        Dacia          Sandero    Petrol    30780        2017   7150\n",
                            "9       Toyota             AYGO    Petrol    55659        2017   7250\n",
                            "10     Citroen       C3 Picasso    Petrol    61634        2016   7250\n",
                            "11         Kia          Picanto    Petrol    36057        2015   7300\n",
                            "12      Toyota             AYGO    Petrol    36463        2016   7350\n",
                            "13        Fiat              500    Petrol    35522        2015   7350\n",
                            "14       Dacia          Sandero    Petrol    27495        2017   7450\n",
                            "15    Vauxhall        Astra GTC    Petrol    42517        2015   7450\n",
                            "16    Vauxhall            Corsa    Petrol    38675        2016   7550\n",
                            "17    Vauxhall             Viva    Petrol    16550        2016   7550\n",
                            "18        Fiat             Tipo    Diesel    50445        2016   7550\n",
                            "19        Ford               Ka    Petrol    28293        2015   7600\n",
                            "20        Fiat              500    Petrol    38115        2015   7600\n",
                            "21        Ford           Fiesta    Petrol    61086        2017   7650\n",
                            "22     Peugeot              108    Petrol    14824        2015   7650\n",
                            "23        Fiat              500    Petrol    17693        2015   7700\n",
                            "24        Fiat              500    Petrol    33133        2017   7700\n",
                            "25    Vauxhall            Corsa    Petrol    62525        2017   7750\n",
                            "26        Fiat              500    Petrol    47463        2015   7750\n",
                            "27     Peugeot             2008    Petrol    52965        2015   7750\n",
                            "28  Volkswagen              up!    Petrol    13127        2015   7800\n",
                            "29      Toyota             AYGO    Petrol    33907        2015   7850\n",
                            "30      Toyota             AYGO    Petrol    36871        2018   7850\n",
                            "31      Toyota             AYGO    Petrol    31724        2016   7850\n",
                            "32      Toyota             AYGO    Petrol    22523        2015   7850\n",
                            "33          DS             DS 3    Petrol    40837        2015   7900\n",
                            "34        Ford           Fiesta    Petrol    64720        2016   7900\n",
                            "35        Fiat              500    Petrol    27119        2015   7950\n",
                            "36        Fiat              500    Petrol    21691        2015   7950\n",
                            "37        Fiat              500    Petrol    23006        2015   7950\n",
                            "38        Fiat              500    Petrol    28516        2015   7950\n",
                            "39    Vauxhall            Astra    Diesel    37435        2016   7950\n",
                            "40          DS             DS 3    Petrol    43589        2017   8000\n",
                            "41         Kia          Picanto    Petrol    29356        2015   8000\n",
                            "42        Seat            Ibiza    Petrol    91225        2018   8000\n",
                            "43       Smart          forfour    Petrol     5316        2018   8000\n",
                            "44        Ford           Fiesta    Petrol    59500        2016   8050\n",
                            "45        Ford           Fiesta    Petrol    41048        2016   8050\n",
                            "46       Smart          forfour    Petrol     7800        2018   8050\n",
                            "47    Vauxhall            Corsa    Petrol    59965        2017   8100"
                        ]
                    },
                    "execution_count": 17,
                    "metadata": {},
                    "output_type": "execute_result"
                }
            ],
            "source": [
                "car_df"
            ]
        },
        {
            "cell_type": "code",
            "execution_count": null,
            "metadata": {
                "id": "YjfADvuQd74m"
            },
            "outputs": [],
            "source": [
                "car_df.to_csv('data.csv')"
            ]
        },
        {
            "attachments": {},
            "cell_type": "markdown",
            "metadata": {
                "id": "VKO18lhPmjRu"
            },
            "source": [
                "#### 9 - Scraping Plusieurs Pages (ici : 20 pages)"
            ]
        },
        {
            "cell_type": "code",
            "execution_count": null,
            "metadata": {
                "colab": {
                    "base_uri": "https://localhost:8080/",
                    "height": 424
                },
                "id": "GmQeCZgMebpd",
                "outputId": "79b725b7-0111-4c7a-b933-595ca5879f11"
            },
            "outputs": [
                {
                    "data": {
                        "text/html": [
                            "\n",
                            "  <div id=\"df-b49bbd88-0d7a-48ee-870c-38c5bfa9b4ab\">\n",
                            "    <div class=\"colab-df-container\">\n",
                            "      <div>\n",
                            "<style scoped>\n",
                            "    .dataframe tbody tr th:only-of-type {\n",
                            "        vertical-align: middle;\n",
                            "    }\n",
                            "\n",
                            "    .dataframe tbody tr th {\n",
                            "        vertical-align: top;\n",
                            "    }\n",
                            "\n",
                            "    .dataframe thead th {\n",
                            "        text-align: right;\n",
                            "    }\n",
                            "</style>\n",
                            "<table border=\"1\" class=\"dataframe\">\n",
                            "  <thead>\n",
                            "    <tr style=\"text-align: right;\">\n",
                            "      <th></th>\n",
                            "      <th>Brand</th>\n",
                            "      <th>Model</th>\n",
                            "      <th>Fuel Type</th>\n",
                            "      <th>Mileage</th>\n",
                            "      <th>Model Year</th>\n",
                            "      <th>Price</th>\n",
                            "    </tr>\n",
                            "  </thead>\n",
                            "  <tbody>\n",
                            "    <tr>\n",
                            "      <th>0</th>\n",
                            "      <td>Peugeot</td>\n",
                            "      <td>108</td>\n",
                            "      <td>Petrol</td>\n",
                            "      <td>34207</td>\n",
                            "      <td>2015</td>\n",
                            "      <td>6550</td>\n",
                            "    </tr>\n",
                            "    <tr>\n",
                            "      <th>1</th>\n",
                            "      <td>Dacia</td>\n",
                            "      <td>Sandero Stepway</td>\n",
                            "      <td>Petrol</td>\n",
                            "      <td>65547</td>\n",
                            "      <td>2012</td>\n",
                            "      <td>6550</td>\n",
                            "    </tr>\n",
                            "    <tr>\n",
                            "      <th>2</th>\n",
                            "      <td>Suzuki</td>\n",
                            "      <td>Celerio</td>\n",
                            "      <td>Petrol</td>\n",
                            "      <td>23190</td>\n",
                            "      <td>2015</td>\n",
                            "      <td>6650</td>\n",
                            "    </tr>\n",
                            "    <tr>\n",
                            "      <th>3</th>\n",
                            "      <td>Fiat</td>\n",
                            "      <td>500</td>\n",
                            "      <td>Petrol</td>\n",
                            "      <td>41216</td>\n",
                            "      <td>2015</td>\n",
                            "      <td>6850</td>\n",
                            "    </tr>\n",
                            "    <tr>\n",
                            "      <th>4</th>\n",
                            "      <td>Dacia</td>\n",
                            "      <td>Sandero</td>\n",
                            "      <td>Petrol</td>\n",
                            "      <td>10837</td>\n",
                            "      <td>2012</td>\n",
                            "      <td>6900</td>\n",
                            "    </tr>\n",
                            "    <tr>\n",
                            "      <th>...</th>\n",
                            "      <td>...</td>\n",
                            "      <td>...</td>\n",
                            "      <td>...</td>\n",
                            "      <td>...</td>\n",
                            "      <td>...</td>\n",
                            "      <td>...</td>\n",
                            "    </tr>\n",
                            "    <tr>\n",
                            "      <th>955</th>\n",
                            "      <td>Fiat</td>\n",
                            "      <td>500</td>\n",
                            "      <td>Petrol</td>\n",
                            "      <td>28935</td>\n",
                            "      <td>2015</td>\n",
                            "      <td>11600</td>\n",
                            "    </tr>\n",
                            "    <tr>\n",
                            "      <th>956</th>\n",
                            "      <td>Audi</td>\n",
                            "      <td>A1</td>\n",
                            "      <td>Diesel</td>\n",
                            "      <td>48361</td>\n",
                            "      <td>2016</td>\n",
                            "      <td>11650</td>\n",
                            "    </tr>\n",
                            "    <tr>\n",
                            "      <th>957</th>\n",
                            "      <td>Nissan</td>\n",
                            "      <td>Pulsar</td>\n",
                            "      <td>Petrol</td>\n",
                            "      <td>16518</td>\n",
                            "      <td>2015</td>\n",
                            "      <td>11650</td>\n",
                            "    </tr>\n",
                            "    <tr>\n",
                            "      <th>958</th>\n",
                            "      <td>Fiat</td>\n",
                            "      <td>500</td>\n",
                            "      <td>Petrol</td>\n",
                            "      <td>5874</td>\n",
                            "      <td>2018</td>\n",
                            "      <td>11650</td>\n",
                            "    </tr>\n",
                            "    <tr>\n",
                            "      <th>959</th>\n",
                            "      <td>Hyundai</td>\n",
                            "      <td>i20</td>\n",
                            "      <td>Petrol</td>\n",
                            "      <td>7917</td>\n",
                            "      <td>2017</td>\n",
                            "      <td>11650</td>\n",
                            "    </tr>\n",
                            "  </tbody>\n",
                            "</table>\n",
                            "<p>960 rows × 6 columns</p>\n",
                            "</div>\n",
                            "      <button class=\"colab-df-convert\" onclick=\"convertToInteractive('df-b49bbd88-0d7a-48ee-870c-38c5bfa9b4ab')\"\n",
                            "              title=\"Convert this dataframe to an interactive table.\"\n",
                            "              style=\"display:none;\">\n",
                            "        \n",
                            "  <svg xmlns=\"http://www.w3.org/2000/svg\" height=\"24px\"viewBox=\"0 0 24 24\"\n",
                            "       width=\"24px\">\n",
                            "    <path d=\"M0 0h24v24H0V0z\" fill=\"none\"/>\n",
                            "    <path d=\"M18.56 5.44l.94 2.06.94-2.06 2.06-.94-2.06-.94-.94-2.06-.94 2.06-2.06.94zm-11 1L8.5 8.5l.94-2.06 2.06-.94-2.06-.94L8.5 2.5l-.94 2.06-2.06.94zm10 10l.94 2.06.94-2.06 2.06-.94-2.06-.94-.94-2.06-.94 2.06-2.06.94z\"/><path d=\"M17.41 7.96l-1.37-1.37c-.4-.4-.92-.59-1.43-.59-.52 0-1.04.2-1.43.59L10.3 9.45l-7.72 7.72c-.78.78-.78 2.05 0 2.83L4 21.41c.39.39.9.59 1.41.59.51 0 1.02-.2 1.41-.59l7.78-7.78 2.81-2.81c.8-.78.8-2.07 0-2.86zM5.41 20L4 18.59l7.72-7.72 1.47 1.35L5.41 20z\"/>\n",
                            "  </svg>\n",
                            "      </button>\n",
                            "      \n",
                            "  <style>\n",
                            "    .colab-df-container {\n",
                            "      display:flex;\n",
                            "      flex-wrap:wrap;\n",
                            "      gap: 12px;\n",
                            "    }\n",
                            "\n",
                            "    .colab-df-convert {\n",
                            "      background-color: #E8F0FE;\n",
                            "      border: none;\n",
                            "      border-radius: 50%;\n",
                            "      cursor: pointer;\n",
                            "      display: none;\n",
                            "      fill: #1967D2;\n",
                            "      height: 32px;\n",
                            "      padding: 0 0 0 0;\n",
                            "      width: 32px;\n",
                            "    }\n",
                            "\n",
                            "    .colab-df-convert:hover {\n",
                            "      background-color: #E2EBFA;\n",
                            "      box-shadow: 0px 1px 2px rgba(60, 64, 67, 0.3), 0px 1px 3px 1px rgba(60, 64, 67, 0.15);\n",
                            "      fill: #174EA6;\n",
                            "    }\n",
                            "\n",
                            "    [theme=dark] .colab-df-convert {\n",
                            "      background-color: #3B4455;\n",
                            "      fill: #D2E3FC;\n",
                            "    }\n",
                            "\n",
                            "    [theme=dark] .colab-df-convert:hover {\n",
                            "      background-color: #434B5C;\n",
                            "      box-shadow: 0px 1px 3px 1px rgba(0, 0, 0, 0.15);\n",
                            "      filter: drop-shadow(0px 1px 2px rgba(0, 0, 0, 0.3));\n",
                            "      fill: #FFFFFF;\n",
                            "    }\n",
                            "  </style>\n",
                            "\n",
                            "      <script>\n",
                            "        const buttonEl =\n",
                            "          document.querySelector('#df-b49bbd88-0d7a-48ee-870c-38c5bfa9b4ab button.colab-df-convert');\n",
                            "        buttonEl.style.display =\n",
                            "          google.colab.kernel.accessAllowed ? 'block' : 'none';\n",
                            "\n",
                            "        async function convertToInteractive(key) {\n",
                            "          const element = document.querySelector('#df-b49bbd88-0d7a-48ee-870c-38c5bfa9b4ab');\n",
                            "          const dataTable =\n",
                            "            await google.colab.kernel.invokeFunction('convertToInteractive',\n",
                            "                                                     [key], {});\n",
                            "          if (!dataTable) return;\n",
                            "\n",
                            "          const docLinkHtml = 'Like what you see? Visit the ' +\n",
                            "            '<a target=\"_blank\" href=https://colab.research.google.com/notebooks/data_table.ipynb>data table notebook</a>'\n",
                            "            + ' to learn more about interactive tables.';\n",
                            "          element.innerHTML = '';\n",
                            "          dataTable['output_type'] = 'display_data';\n",
                            "          await google.colab.output.renderOutput(dataTable, element);\n",
                            "          const docLink = document.createElement('div');\n",
                            "          docLink.innerHTML = docLinkHtml;\n",
                            "          element.appendChild(docLink);\n",
                            "        }\n",
                            "      </script>\n",
                            "    </div>\n",
                            "  </div>\n",
                            "  "
                        ],
                        "text/plain": [
                            "       Brand            Model Fuel Type  Mileage  Model Year  Price\n",
                            "0    Peugeot              108    Petrol    34207        2015   6550\n",
                            "1      Dacia  Sandero Stepway    Petrol    65547        2012   6550\n",
                            "2     Suzuki          Celerio    Petrol    23190        2015   6650\n",
                            "3       Fiat              500    Petrol    41216        2015   6850\n",
                            "4      Dacia          Sandero    Petrol    10837        2012   6900\n",
                            "..       ...              ...       ...      ...         ...    ...\n",
                            "955     Fiat              500    Petrol    28935        2015  11600\n",
                            "956     Audi               A1    Diesel    48361        2016  11650\n",
                            "957   Nissan           Pulsar    Petrol    16518        2015  11650\n",
                            "958     Fiat              500    Petrol     5874        2018  11650\n",
                            "959  Hyundai              i20    Petrol     7917        2017  11650\n",
                            "\n",
                            "[960 rows x 6 columns]"
                        ]
                    },
                    "execution_count": 19,
                    "metadata": {},
                    "output_type": "execute_result"
                }
            ],
            "source": [
                "headers = {\n",
                "    'authority': 'www.cazoo.co.uk',\n",
                "    'sec-ch-ua': '^\\\\^',\n",
                "    'cazoo-language': 'en',\n",
                "    'sec-ch-ua-mobile': '?0',\n",
                "    'user-agent': 'Mozilla/5.0 (Windows NT 10.0; Win64; x64) AppleWebKit/537.36 (KHTML, like Gecko) Chrome/96.0.4664.45 Safari/537.36',\n",
                "    'cazoo-market': 'gb',\n",
                "    'sec-ch-ua-platform': '^\\\\^Windows^\\\\^',\n",
                "    'accept': '*/*',\n",
                "    'sec-fetch-site': 'same-origin',\n",
                "    'sec-fetch-mode': 'cors',\n",
                "    'sec-fetch-dest': 'empty',\n",
                "    'referer': 'https://www.cazoo.co.uk/cars/',\n",
                "    'accept-language': 'en-US,en;q=0.9,de-DE;q=0.8,de;q=0.7',\n",
                "    'cookie': 'base_device_id=d0a0a3f4-6853-469a-920f-6050e04a23d0; base_session_count=1',\n",
                "}\n",
                "\n",
                "# empty lists\n",
                "brand = []\n",
                "model = []\n",
                "fuel_type = []\n",
                "miles = []\n",
                "model_year = []\n",
                "price = []\n",
                "\n",
                "for i in range(1,21):\n",
                "\n",
                "    params = (\n",
                "        ('page', str(i)),\n",
                "        ('sort', 'price-asc'),\n",
                "    )\n",
                "\n",
                "    response = requests.get('https://www.cazoo.co.uk/api/search', headers=headers, params=params)\n",
                "\n",
                "    results_json = response.json()\n",
                "    \n",
                "    listing = results_json['results']\n",
                "    \n",
                "    for result in listing:\n",
                "    \n",
                "        # brand\n",
                "        try:\n",
                "            brand.append(result['make'])\n",
                "        except:\n",
                "            brand.append('')\n",
                "\n",
                "        # model \n",
                "        try:\n",
                "            model.append(result['model'])\n",
                "        except:\n",
                "            model.append('')\n",
                "\n",
                "        # fuel type\n",
                "        try:\n",
                "            fuel_type.append(result['fuelType']['description'])\n",
                "        except:\n",
                "            fuel_type.append('')\n",
                "\n",
                "        # miles\n",
                "        try:\n",
                "            miles.append(result['mileage'])\n",
                "        except:\n",
                "            miles.append('')\n",
                "\n",
                "        #model year\n",
                "        try:\n",
                "            model_year.append(result['modelYear'])\n",
                "        except:\n",
                "            model_year\n",
                "\n",
                "        # price\n",
                "        try:\n",
                "            price.append(result['pricing']['fullPrice']['value'])\n",
                "        except:\n",
                "            price.append('')\n",
                "        \n",
                "\n",
                "car_df_multiple = pd.DataFrame({'Brand': brand, 'Model':model, 'Fuel Type': fuel_type, 'Mileage':miles,\n",
                "                      'Model Year': model_year, 'Price':price})   \n",
                "\n",
                "car_df_multiple\n"
            ]
        },
        {
            "cell_type": "code",
            "execution_count": null,
            "metadata": {
                "id": "zG83GEgHeiBm"
            },
            "outputs": [],
            "source": [
                "car_df_multiple.to_csv('data_multiple.csv')"
            ]
        }
    ],
    "metadata": {
        "kernelspec": {
            "display_name": "Python 3",
            "language": "python",
            "name": "python3"
        },
        "language_info": {
            "codemirror_mode": {
                "name": "ipython",
                "version": 3
            },
            "file_extension": ".py",
            "mimetype": "text/x-python",
            "name": "python",
            "nbconvert_exporter": "python",
            "pygments_lexer": "ipython3",
            "version": "3.12.0"
        },
        "vscode": {
            "interpreter": {
                "hash": "ab1d0033c7335c0fe0bc7bbdf0206b9f203ed6908047dbf4ec92ecd764faa004"
            }
        }
    },
    "nbformat": 4,
    "nbformat_minor": 0
}
